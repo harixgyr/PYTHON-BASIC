{
 "cells": [
  {
   "cell_type": "code",
   "execution_count": 2,
   "id": "b81f42c0-b7ba-4cd1-b47f-7fc34315b21e",
   "metadata": {},
   "outputs": [
    {
     "name": "stdout",
     "output_type": "stream",
     "text": [
      "hello world\n"
     ]
    }
   ],
   "source": [
    "print(\"hello world\")"
   ]
  },
  {
   "cell_type": "code",
   "execution_count": 4,
   "id": "30bb2731-f2b4-49d0-a8b3-cbcdc459074e",
   "metadata": {},
   "outputs": [
    {
     "data": {
      "text/plain": [
       "'3.12.7 | packaged by Anaconda, Inc. | (main, Oct  4 2024, 13:17:27) [MSC v.1929 64 bit (AMD64)]'"
      ]
     },
     "execution_count": 4,
     "metadata": {},
     "output_type": "execute_result"
    }
   ],
   "source": [
    "import sys\n",
    "sys.version"
   ]
  },
  {
   "cell_type": "markdown",
   "id": "74b9a8af-0c2c-406f-ac5d-73291a990d19",
   "metadata": {},
   "source": [
    "SINGLE LINE COMMENT "
   ]
  },
  {
   "cell_type": "code",
   "execution_count": 8,
   "id": "c8ceaefa-b3a4-407e-a0d2-eeb3ce0974d9",
   "metadata": {},
   "outputs": [
    {
     "name": "stdout",
     "output_type": "stream",
     "text": [
      "6 10\n"
     ]
    }
   ],
   "source": [
    "a=2\n",
    "b=3\n",
    "c=10\n",
    "print(a*b,c)"
   ]
  },
  {
   "cell_type": "markdown",
   "id": "5b983c90-b44a-4997-ab5c-bec2fee1def5",
   "metadata": {},
   "source": [
    "'''MULTI LINE COMMENT'''"
   ]
  },
  {
   "cell_type": "code",
   "execution_count": 14,
   "id": "a92f15d0-5b71-4b8d-b789-39233050afdc",
   "metadata": {},
   "outputs": [
    {
     "data": {
      "text/plain": [
       "'a=34\\n    b=22\\n    c=55\\n    print(a*b,c)'"
      ]
     },
     "execution_count": 14,
     "metadata": {},
     "output_type": "execute_result"
    }
   ],
   "source": [
    "'''a=34\n",
    "    b=22\n",
    "    c=55\n",
    "    print(a*b,c)'''"
   ]
  },
  {
   "cell_type": "markdown",
   "id": "c078ef06-dd43-4e90-98bc-61071f02e791",
   "metadata": {},
   "source": [
    "Assign Multiple Values"
   ]
  },
  {
   "cell_type": "code",
   "execution_count": 18,
   "id": "27bc388a-38ff-49eb-8e5d-f681ed4064d8",
   "metadata": {},
   "outputs": [
    {
     "name": "stdout",
     "output_type": "stream",
     "text": [
      "MAX\n"
     ]
    }
   ],
   "source": [
    "k=l=m= \"MAX\"\n",
    "print(k)"
   ]
  },
  {
   "cell_type": "code",
   "execution_count": 24,
   "id": "941e589c-499c-4faf-841e-3edd393f23db",
   "metadata": {},
   "outputs": [
    {
     "name": "stdout",
     "output_type": "stream",
     "text": [
      "Cat\n"
     ]
    }
   ],
   "source": [
    "k,l,m =\"Ape\", \"bas\", \"Cat\"\n",
    "print(m)"
   ]
  }
 ],
 "metadata": {
  "kernelspec": {
   "display_name": "Python [conda env:base] *",
   "language": "python",
   "name": "conda-base-py"
  },
  "language_info": {
   "codemirror_mode": {
    "name": "ipython",
    "version": 3
   },
   "file_extension": ".py",
   "mimetype": "text/x-python",
   "name": "python",
   "nbconvert_exporter": "python",
   "pygments_lexer": "ipython3",
   "version": "3.12.7"
  }
 },
 "nbformat": 4,
 "nbformat_minor": 5
}
