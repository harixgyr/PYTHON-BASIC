{
 "cells": [
  {
   "cell_type": "markdown",
   "id": "4325bdd4-1d38-4925-a8a2-74f88ef42c15",
   "metadata": {},
   "source": [
    "# LOOPS "
   ]
  },
  {
   "cell_type": "code",
   "execution_count": null,
   "id": "55e0a29a-a2c6-42ba-a05d-59712995c598",
   "metadata": {},
   "outputs": [],
   "source": [
    "#Exceution is done when it is reacches it condition."
   ]
  },
  {
   "cell_type": "markdown",
   "id": "2abd8ee3-6b29-4f77-9bf5-7e55133f40b9",
   "metadata": {},
   "source": [
    "<font size = '5'>FOR LOOPS</font>"
   ]
  },
  {
   "cell_type": "code",
   "execution_count": 45,
   "id": "235f00e0-0d12-40b8-a5cc-b7b3e1047119",
   "metadata": {},
   "outputs": [
    {
     "name": "stdout",
     "output_type": "stream",
     "text": [
      "APPLE\n",
      "Cherry\n",
      "Watermelon\n",
      "12\n",
      "24\n",
      "36\n",
      "48\n",
      "60\n",
      "72\n",
      "84\n",
      "96\n"
     ]
    }
   ],
   "source": [
    "# condition follows until the loop ends.\n",
    "\n",
    "Fruits = {\"APPLE\", \"Cherry\", \"Watermelon\"}\n",
    "for i in Fruits:                                        #by strings\n",
    "    print(i)\n",
    "\n",
    "\n",
    "number = [12, 24, 36, 48, 60, 72, 84, 96]\n",
    "for j in range(len(number)):                            #by integers\n",
    "   print(number[j])\n",
    "    "
   ]
  },
  {
   "cell_type": "code",
   "execution_count": 47,
   "id": "2869dfc3-e9f9-4993-9126-7d27853cb2f7",
   "metadata": {},
   "outputs": [
    {
     "name": "stdout",
     "output_type": "stream",
     "text": [
      "M\n",
      "A\n",
      "T\n",
      "H\n",
      "E\n",
      "M\n",
      "A\n",
      "T\n",
      "I\n",
      "C\n",
      "A\n",
      "L\n"
     ]
    }
   ],
   "source": [
    "#Multiple index in a single string\n",
    "\n",
    "a = \"MATHEMATICAL\"\n",
    "for j in a:\n",
    "    print(j)\n",
    "    "
   ]
  },
  {
   "cell_type": "markdown",
   "id": "47daf128-905d-4995-8824-c32dd1a36eb1",
   "metadata": {},
   "source": [
    "<font size = '5.1'>PASS > CONTINUE > BREAK</font>"
   ]
  },
  {
   "cell_type": "code",
   "execution_count": 57,
   "id": "6c677207-01cb-43a8-83d7-50b8158165c0",
   "metadata": {},
   "outputs": [],
   "source": [
    "#PASS -> it doesn't include errors. \n",
    "\n",
    "a =(\"Feevr\", \"LinkedIN\", \"NAkuri\")\n",
    "for i in a :\n",
    "    if i ==\"Feevr\":\n",
    "     pass\n"
   ]
  },
  {
   "cell_type": "code",
   "execution_count": 102,
   "id": "bba3470d-28ae-4fe8-b44b-13fb77a2ce39",
   "metadata": {},
   "outputs": [
    {
     "name": "stdout",
     "output_type": "stream",
     "text": [
      "2\n",
      "4\n",
      "6\n",
      "10\n",
      "12\n",
      "14\n"
     ]
    }
   ],
   "source": [
    "#CONTINUE -> it leaves when condition reaches and execute other values\n",
    "\n",
    "b = [2, 4, 6, 8, 10, 12, 14]\n",
    "for j in b:\n",
    "    if j ==8:\n",
    "        continue\n",
    "    print(j)\n",
    "    "
   ]
  },
  {
   "cell_type": "code",
   "execution_count": 133,
   "id": "bf43188c-2907-4283-b67e-375e1ca12799",
   "metadata": {},
   "outputs": [
    {
     "name": "stdout",
     "output_type": "stream",
     "text": [
      "2\n",
      "3\n",
      "13\n",
      "43\n"
     ]
    }
   ],
   "source": [
    "#BREAK -> it keep on looping until it reaches it need, and stops looping.\n",
    "\n",
    "c = [2, 3, 13, 43, 53, 65, 70]\n",
    "for k in c:\n",
    "    if k == 53:\n",
    "        break\n",
    "    print(k)\n"
   ]
  },
  {
   "cell_type": "code",
   "execution_count": 137,
   "id": "aaa97c8e-db2d-4298-9929-b1e6c06df25f",
   "metadata": {},
   "outputs": [
    {
     "name": "stdout",
     "output_type": "stream",
     "text": [
      "2\n",
      "5\n",
      "8\n",
      "11\n",
      "14\n",
      "17\n",
      "20\n"
     ]
    }
   ],
   "source": [
    "#Directlty break the loop without assign of set or etc ..\n",
    "\n",
    "for i in range(2, 30, 3):\n",
    "    if i == 23:\n",
    "        break\n",
    "    print(i)\n",
    "    "
   ]
  },
  {
   "cell_type": "code",
   "execution_count": 27,
   "id": "f786a7b0-2269-48b0-850e-ae3b3e033a1c",
   "metadata": {},
   "outputs": [
    {
     "name": "stdout",
     "output_type": "stream",
     "text": [
      "Apple\n",
      "Bannana\n"
     ]
    }
   ],
   "source": [
    "#FOR LOOPS for all 'SETS, TUPLES, LIST nd DICTIONARY'\n",
    "\n",
    "#LIST\n",
    "\n",
    "mylist1 = [\"Apple\", \"Bannana\", \"Carrot\", \"Orange\"]\n",
    "for i in mylist1:\n",
    "    if i == \"Carrot\":\n",
    "        break\n",
    "    print(i)\n",
    "    "
   ]
  },
  {
   "cell_type": "code",
   "execution_count": 29,
   "id": "d6e54384-4ca4-4868-9d6f-171ca7c2bacb",
   "metadata": {},
   "outputs": [
    {
     "name": "stdout",
     "output_type": "stream",
     "text": [
      "arrow\n",
      "bust\n",
      "deer\n",
      "elephant\n"
     ]
    }
   ],
   "source": [
    "#tuple\n",
    "\n",
    "mytuple = (\"arrow\", \"bust\", \"cat\", \"deer\", \"elephant\")\n",
    "for j in mytuple:\n",
    "    if j == \"cat\":\n",
    "        continue\n",
    "    print(j)\n",
    "    "
   ]
  },
  {
   "cell_type": "code",
   "execution_count": 31,
   "id": "281286b1-5cc4-44b8-a182-00d0f671ac76",
   "metadata": {},
   "outputs": [],
   "source": [
    "#set\n",
    "\n",
    "myset = {\"arrow\", \"van\", \"next\", \"false\", \"gyne\"}\n",
    "for k in myset:\n",
    "    if k == \"next\":\n",
    "        break\n",
    "    print(k)\n",
    "    "
   ]
  },
  {
   "cell_type": "code",
   "execution_count": 33,
   "id": "a14604ff-f35b-4619-b23e-e70672f3c1c2",
   "metadata": {},
   "outputs": [
    {
     "name": "stdout",
     "output_type": "stream",
     "text": [
      "h1\n"
     ]
    }
   ],
   "source": [
    "#difference\n",
    "\n",
    "mydifference = {\"h1\": 2, \"h2\": 3, \"h3\": 4, \"h4\": 5}\n",
    "for m in mydifference.keys():\n",
    "    if m == \"h1\":\n",
    "        break \n",
    "print(m)\n",
    "    "
   ]
  },
  {
   "cell_type": "markdown",
   "id": "95977b92-294d-4c6e-9e41-e29925c51380",
   "metadata": {},
   "source": [
    "<font size = '5'>While Loop</font>"
   ]
  },
  {
   "cell_type": "code",
   "execution_count": 36,
   "id": "62452ec0-3d72-43fa-abaf-41f50f252ab9",
   "metadata": {},
   "outputs": [
    {
     "name": "stdout",
     "output_type": "stream",
     "text": [
      "1\n",
      "2\n",
      "3\n",
      "4\n"
     ]
    }
   ],
   "source": [
    "#While loop \n",
    "\n",
    "i = 1\n",
    "while i <5:\n",
    "    print(i)\n",
    "    i+=1\n",
    "    "
   ]
  },
  {
   "cell_type": "code",
   "execution_count": 38,
   "id": "d3d3ed68-172b-41b9-a169-9ef67079b767",
   "metadata": {},
   "outputs": [
    {
     "name": "stdout",
     "output_type": "stream",
     "text": [
      "2\n",
      "4\n",
      "6\n"
     ]
    }
   ],
   "source": [
    "#while plays with continue keys.\n",
    "\n",
    "i = 0\n",
    "while i < 6:\n",
    "    i += 2\n",
    "    if i == 7:\n",
    "        continue\n",
    "    print(i)\n",
    "    "
   ]
  },
  {
   "cell_type": "code",
   "execution_count": 40,
   "id": "5022af2d-17eb-4848-8f77-07d75c18de99",
   "metadata": {},
   "outputs": [
    {
     "name": "stdout",
     "output_type": "stream",
     "text": [
      "male id [2, 4, 6, 8, 10, 12, 14, 16, 18, 20, 22, 24]\n",
      "female id: [1, 3, 5, 7, 9, 11, 13, 15, 17, 19, 21, 23, 25]\n"
     ]
    }
   ],
   "source": [
    "#by following while loop decided where to be stored.\n",
    "\n",
    "l = [2, 1, 3, 4, 5, 6, 7, 8, 9, 10, 11, 12, 13, 14, 15, 16, 17, 18, 19, 20, 21, 22, 23, 24, 25]\n",
    "male = []\n",
    "female = []\n",
    "\n",
    "i = 0\n",
    "while i < len(l):\n",
    "    if l[i] % 2 == 0:\n",
    "        male.append(l[i])\n",
    "    else:\n",
    "        female.append(l[i])\n",
    "    i += 1\n",
    "\n",
    "print(\"male id\", male)\n",
    "print(\"female id:\", female)"
   ]
  },
  {
   "cell_type": "code",
   "execution_count": null,
   "id": "6917cd7b-8ce3-4f68-a341-0a2c1abb80f5",
   "metadata": {},
   "outputs": [],
   "source": []
  }
 ],
 "metadata": {
  "kernelspec": {
   "display_name": "Python [conda env:base] *",
   "language": "python",
   "name": "conda-base-py"
  },
  "language_info": {
   "codemirror_mode": {
    "name": "ipython",
    "version": 3
   },
   "file_extension": ".py",
   "mimetype": "text/x-python",
   "name": "python",
   "nbconvert_exporter": "python",
   "pygments_lexer": "ipython3",
   "version": "3.12.7"
  }
 },
 "nbformat": 4,
 "nbformat_minor": 5
}
