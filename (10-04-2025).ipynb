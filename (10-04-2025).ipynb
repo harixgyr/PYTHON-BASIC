{
 "cells": [
  {
   "cell_type": "markdown",
   "id": "5e6e5376-dc68-43eb-b574-f46160009498",
   "metadata": {},
   "source": [
    "# BITWISE OPERATOR"
   ]
  },
  {
   "cell_type": "code",
   "execution_count": 58,
   "id": "a055bc83-160c-4884-9ffe-952a2bb39997",
   "metadata": {},
   "outputs": [
    {
     "name": "stdout",
     "output_type": "stream",
     "text": [
      "0b1\n",
      "1\n"
     ]
    }
   ],
   "source": [
    "# Operators directy on the binary (bit) form of numbers.\n",
    "\n",
    "#AND\n",
    "\n",
    "a=5                   # 0101 \n",
    "b=3                   # 0011\n",
    "print(bin (a & b))\n",
    "print(a & b)          # 0001\n"
   ]
  },
  {
   "cell_type": "code",
   "execution_count": 60,
   "id": "6a702351-da72-4e91-9feb-938aa25ba9cb",
   "metadata": {},
   "outputs": [
    {
     "name": "stdout",
     "output_type": "stream",
     "text": [
      "7\n",
      "0b111\n"
     ]
    }
   ],
   "source": [
    "#OR\n",
    "\n",
    "c=5 | 3\n",
    "print(c)\n",
    "print(bin(c))\n"
   ]
  },
  {
   "cell_type": "code",
   "execution_count": 111,
   "id": "c4cbf908-4268-47d6-915d-817fe087eccb",
   "metadata": {},
   "outputs": [
    {
     "name": "stdout",
     "output_type": "stream",
     "text": [
      "-5\n"
     ]
    }
   ],
   "source": [
    "#NOT\n",
    "a=5\n",
    "print(~4)\n"
   ]
  },
  {
   "cell_type": "code",
   "execution_count": 135,
   "id": "2c934fe9-bcb8-4f2b-9932-3ec9085fbfc9",
   "metadata": {},
   "outputs": [
    {
     "name": "stdout",
     "output_type": "stream",
     "text": [
      "7\n",
      "0b111\n"
     ]
    }
   ],
   "source": [
    "#XOR\n",
    "\n",
    "c= (4^3)\n",
    "print(c)\n",
    "print(bin(c))\n"
   ]
  },
  {
   "cell_type": "code",
   "execution_count": 133,
   "id": "18eeac7f-b92c-4415-8e05-88cdbe4f3e8c",
   "metadata": {},
   "outputs": [
    {
     "name": "stdout",
     "output_type": "stream",
     "text": [
      "4\n"
     ]
    }
   ],
   "source": [
    "#Left Shift('Multiply by 2')\n",
    "\n",
    "v = 2       \n",
    "print(v<<1)   #0010 - move 2 times left side == #0100\n"
   ]
  },
  {
   "cell_type": "code",
   "execution_count": 159,
   "id": "2dfbb6c2-2b30-444b-acc5-de60544a2877",
   "metadata": {},
   "outputs": [
    {
     "name": "stdout",
     "output_type": "stream",
     "text": [
      "3\n",
      "3\n"
     ]
    }
   ],
   "source": [
    "#Right Shift ('Divide by 2')\n",
    "\n",
    "c=7\n",
    "print(7>>1) #0111 - move 1 time right size == #0011\n",
    "print(7//2)\n"
   ]
  },
  {
   "cell_type": "code",
   "execution_count": null,
   "id": "e11ea3b4-0ca4-4c8c-9009-84949a93fa85",
   "metadata": {},
   "outputs": [],
   "source": []
  },
  {
   "cell_type": "markdown",
   "id": "07da6f5e-8705-42d0-9c3e-f9267eb95d5c",
   "metadata": {},
   "source": [
    "# CONDITIONS and IF STATEMENTS"
   ]
  },
  {
   "cell_type": "markdown",
   "id": "cdb79ab9-de70-4596-9251-4f9cdd181ab6",
   "metadata": {},
   "source": [
    "<font size = '5'>If Statement</font>"
   ]
  },
  {
   "cell_type": "code",
   "execution_count": 170,
   "id": "157ad561-78f5-4341-8085-29ed6517ae2e",
   "metadata": {},
   "outputs": [
    {
     "name": "stdout",
     "output_type": "stream",
     "text": [
      "the given condition is true\n"
     ]
    }
   ],
   "source": [
    "#checks it is true.\n",
    "\n",
    "c= 32\n",
    "if c>=31:\n",
    "    print(\"the given condition is true\") \n"
   ]
  },
  {
   "cell_type": "markdown",
   "id": "a6d83344-a297-4eaa-896f-234c71929fbc",
   "metadata": {},
   "source": [
    "<font size = '5'>Indentation Error</font>"
   ]
  },
  {
   "cell_type": "code",
   "execution_count": 213,
   "id": "91d411f7-bce4-4cdc-9e0c-65cfe0ba6dd0",
   "metadata": {},
   "outputs": [
    {
     "ename": "IndentationError",
     "evalue": "expected an indented block after 'if' statement on line 5 (3618709043.py, line 6)",
     "output_type": "error",
     "traceback": [
      "\u001b[1;36m  Cell \u001b[1;32mIn[213], line 6\u001b[1;36m\u001b[0m\n\u001b[1;33m    print(\"You can vote\")  # ← no indentation!\u001b[0m\n\u001b[1;37m    ^\u001b[0m\n\u001b[1;31mIndentationError\u001b[0m\u001b[1;31m:\u001b[0m expected an indented block after 'if' statement on line 5\n"
     ]
    }
   ],
   "source": [
    "#Checks Spacing \n",
    "\n",
    "age = 20\n",
    "\n",
    "if age >= 18:\n",
    "print(\"You can vote\")  # ← no indentation!\n"
   ]
  },
  {
   "cell_type": "markdown",
   "id": "f3e8d324-4ea1-4e25-b214-a09b485fc079",
   "metadata": {},
   "source": [
    "<font size = '5'>Syntax Error</font>"
   ]
  },
  {
   "cell_type": "code",
   "execution_count": 209,
   "id": "daf8ff0b-7be9-4217-8ca9-dae1a7ae965a",
   "metadata": {},
   "outputs": [
    {
     "ename": "SyntaxError",
     "evalue": "expected ':' (1808143341.py, line 5)",
     "output_type": "error",
     "traceback": [
      "\u001b[1;36m  Cell \u001b[1;32mIn[209], line 5\u001b[1;36m\u001b[0m\n\u001b[1;33m    if age >= 18\u001b[0m\n\u001b[1;37m                ^\u001b[0m\n\u001b[1;31mSyntaxError\u001b[0m\u001b[1;31m:\u001b[0m expected ':'\n"
     ]
    }
   ],
   "source": [
    "#Checks Syntax\n",
    "\n",
    "age = 20\n",
    "\n",
    "if age >= 18            # ← no syntax!\n",
    "   print(\"You can vote\")  \n"
   ]
  },
  {
   "cell_type": "markdown",
   "id": "f37b50d3-bf53-47f7-ac59-f4510a1f3914",
   "metadata": {},
   "source": [
    "<font size = '5'>If Elif Condition</font>"
   ]
  },
  {
   "cell_type": "code",
   "execution_count": 192,
   "id": "dc1af358-eed1-4e72-a266-8ba5867718c1",
   "metadata": {},
   "outputs": [
    {
     "name": "stdout",
     "output_type": "stream",
     "text": [
      "a is true\n"
     ]
    }
   ],
   "source": [
    "#checks both the condition.\n",
    "\n",
    "a = 4\n",
    "b = 3\n",
    "if (a>b):\n",
    "    print(\"a is true\")\n",
    "elif(a==b):\n",
    "    print(\"a and b is equal\")\n",
    "    "
   ]
  },
  {
   "cell_type": "markdown",
   "id": "66f4e618-f418-4820-81ed-a4adbffc814a",
   "metadata": {},
   "source": [
    "<font size = '5'>If Elif Else Condition </font>"
   ]
  },
  {
   "cell_type": "code",
   "execution_count": 205,
   "id": "f5cc1d92-9914-4fd7-b597-5cb0e6acca11",
   "metadata": {},
   "outputs": [
    {
     "name": "stdout",
     "output_type": "stream",
     "text": [
      "d is greater than c\n"
     ]
    }
   ],
   "source": [
    "d = 43\n",
    "c = 21\n",
    "if(c > d):\n",
    "    print(\"c is greater than d\")\n",
    "elif(d < c):\n",
    "    print(\"c is not equal to d\")\n",
    "else:\n",
    "    print(\"d is greater than c\")\n",
    "    "
   ]
  },
  {
   "cell_type": "markdown",
   "id": "6b92a6a3-be74-48a5-85bc-e70169775644",
   "metadata": {},
   "source": [
    "<font size = '5'>If Else</font>"
   ]
  },
  {
   "cell_type": "code",
   "execution_count": 220,
   "id": "6312dfe8-d448-4944-b5a9-d662a4917dd5",
   "metadata": {},
   "outputs": [
    {
     "name": "stdout",
     "output_type": "stream",
     "text": [
      "g is less than h\n"
     ]
    }
   ],
   "source": [
    "g = 5\n",
    "h = 7\n",
    "if (g == h):\n",
    "  print(\"g is equal to h\")\n",
    "else:\n",
    "    print(\"g is less than h\")\n",
    "    "
   ]
  },
  {
   "cell_type": "markdown",
   "id": "691ffa06-5de3-45fa-b058-404183b7e11b",
   "metadata": {},
   "source": [
    "<font size = '5'>If Condition using AND</font>\n"
   ]
  },
  {
   "cell_type": "code",
   "execution_count": 248,
   "id": "7d1e1a38-121b-46bf-9d0e-59cddc4932df",
   "metadata": {},
   "outputs": [
    {
     "name": "stdout",
     "output_type": "stream",
     "text": [
      "Both are equal\n"
     ]
    }
   ],
   "source": [
    "x = 43\n",
    "y = 34\n",
    "z = 22\n",
    "if x > y and z <= y:\n",
    "    print(\"Both are equal\")\n",
    "    "
   ]
  },
  {
   "cell_type": "markdown",
   "id": "8ca1ab7c-9b74-4d10-b173-ae311e373238",
   "metadata": {},
   "source": [
    "<font size = '5'>If Condition using OR</font>"
   ]
  },
  {
   "cell_type": "code",
   "execution_count": 281,
   "id": "b6641521-e7d0-42cb-aabe-3222cbf38f32",
   "metadata": {},
   "outputs": [
    {
     "name": "stdout",
     "output_type": "stream",
     "text": [
      "True\n"
     ]
    }
   ],
   "source": [
    "x = 43\n",
    "y = 34\n",
    "z = 22\n",
    "if y == z or x > z or x == y:\n",
    "    print(\"True\")\n",
    "    "
   ]
  },
  {
   "cell_type": "markdown",
   "id": "664ad87e-15bf-494c-b50b-5bd01bd7bd21",
   "metadata": {},
   "source": [
    "<font size = '5'>If Else Condition using NOT</Font>"
   ]
  },
  {
   "cell_type": "code",
   "execution_count": 284,
   "id": "7c80b7d6-5493-462e-b92e-57f527c07c36",
   "metadata": {},
   "outputs": [
    {
     "name": "stdout",
     "output_type": "stream",
     "text": [
      "x is equal to z\n"
     ]
    }
   ],
   "source": [
    "x = 34\n",
    "y = 22\n",
    "z = 34\n",
    "if not x == z:\n",
    "    print(\"x is not equal to z\")\n",
    "else:\n",
    "    print(\"x is equal to z\")\n",
    "    "
   ]
  },
  {
   "cell_type": "markdown",
   "id": "ac8cd754-0f76-42df-af43-f70ded8a25cf",
   "metadata": {},
   "source": [
    "<font size = '5'>Condition Statement Example</font>"
   ]
  },
  {
   "cell_type": "code",
   "execution_count": 295,
   "id": "79e9977f-e89f-45db-9cbd-1d76ca151408",
   "metadata": {},
   "outputs": [
    {
     "name": "stdout",
     "output_type": "stream",
     "text": [
      "e is greater\n"
     ]
    }
   ],
   "source": [
    "c = 73\n",
    "d = 45\n",
    "e = 100\n",
    "if c > e and c == e:\n",
    "    print(\"c is greater\")\n",
    "elif d > c or d == e:\n",
    "    print(\"d is greater\")\n",
    "else:\n",
    "    print(\"e is greater\")\n",
    "    "
   ]
  },
  {
   "cell_type": "code",
   "execution_count": null,
   "id": "dc48c819-149e-4342-9db7-40570bb784a4",
   "metadata": {},
   "outputs": [],
   "source": []
  }
 ],
 "metadata": {
  "kernelspec": {
   "display_name": "Python [conda env:base] *",
   "language": "python",
   "name": "conda-base-py"
  },
  "language_info": {
   "codemirror_mode": {
    "name": "ipython",
    "version": 3
   },
   "file_extension": ".py",
   "mimetype": "text/x-python",
   "name": "python",
   "nbconvert_exporter": "python",
   "pygments_lexer": "ipython3",
   "version": "3.12.7"
  }
 },
 "nbformat": 4,
 "nbformat_minor": 5
}
