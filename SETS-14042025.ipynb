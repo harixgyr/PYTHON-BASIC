{
 "cells": [
  {
   "cell_type": "markdown",
   "id": "772ba5dc-940d-4413-bd96-45b0c85b12cb",
   "metadata": {},
   "source": [
    "# SETS "
   ]
  },
  {
   "cell_type": "code",
   "execution_count": null,
   "id": "716c3c2f-6840-43a8-b8c4-74f781fc98d9",
   "metadata": {},
   "outputs": [],
   "source": [
    "# a collection of unique items in Python.\n",
    "# It means no duplicates and the order doesn't matter."
   ]
  },
  {
   "cell_type": "code",
   "execution_count": 14,
   "id": "27e9df0a-811a-44e1-8938-dadee0b7dbd7",
   "metadata": {},
   "outputs": [
    {
     "data": {
      "text/plain": [
       "{12, 32, 44, 'Axe', 'British', False, 'Label', 'Mansion', True}"
      ]
     },
     "execution_count": 14,
     "metadata": {},
     "output_type": "execute_result"
    }
   ],
   "source": [
    "set1 = {\"Axe\", \"British\", \"Mansion\", \"Label\", 12, 32, 44, True, False}\n",
    "set1\n"
   ]
  },
  {
   "cell_type": "code",
   "execution_count": 8,
   "id": "7701e096-acfb-4820-a623-4619da572fa8",
   "metadata": {},
   "outputs": [
    {
     "data": {
      "text/plain": [
       "{1, 2, 3, 4}"
      ]
     },
     "execution_count": 8,
     "metadata": {},
     "output_type": "execute_result"
    }
   ],
   "source": [
    "# No duplicates .\n",
    "\n",
    "a={1,1,2,2,2,2,3,4,4}\n",
    "a\n"
   ]
  },
  {
   "cell_type": "code",
   "execution_count": 22,
   "id": "608b868b-6b1f-4c03-95c6-e627d0b27001",
   "metadata": {},
   "outputs": [
    {
     "data": {
      "text/plain": [
       "{2, 4, 'Apple', 'Barcels'}"
      ]
     },
     "execution_count": 22,
     "metadata": {},
     "output_type": "execute_result"
    }
   ],
   "source": [
    "# Converting list into sets\n",
    "\n",
    "list1 = [\"Apple\", 2, \"Barcels\", 4]\n",
    "set2 = set(list1)\n",
    "set2\n"
   ]
  },
  {
   "cell_type": "markdown",
   "id": "0f33a8e8-1207-4311-bd76-2d07e41e92be",
   "metadata": {},
   "source": [
    "<font size = '5'> ADDING VALUES IN A SETS</font>"
   ]
  },
  {
   "cell_type": "code",
   "execution_count": 28,
   "id": "3372ef38-4bf2-4a90-b943-6296e0dd2232",
   "metadata": {},
   "outputs": [
    {
     "data": {
      "text/plain": [
       "{4, 6, 7, 8, 9, 10, 11, 15, 17, 18, 33, 90}"
      ]
     },
     "execution_count": 28,
     "metadata": {},
     "output_type": "execute_result"
    }
   ],
   "source": [
    "# Add\n",
    "\n",
    "set3 = {4, 6, 7, 8, 9, 10, 11, 15, 15, 17, 18, 90,}\n",
    "set3.add(33)\n",
    "set3\n"
   ]
  },
  {
   "cell_type": "code",
   "execution_count": 43,
   "id": "76453c00-4941-460c-b72e-6732c9daa1db",
   "metadata": {},
   "outputs": [
    {
     "name": "stdout",
     "output_type": "stream",
     "text": [
      "{'Bence', 'Cherv', 'Audi', 'asta', 'bharat', 'Fero'}\n"
     ]
    }
   ],
   "source": [
    "#Adding two sets into single . \n",
    "\n",
    "set3= {\"asta\", \"bharat\", \"Cherv\"}\n",
    "list2= {\"Bence\", \"Audi\",\"Fero\"}\n",
    "\n",
    "set3.update(list2)\n",
    "\n",
    "print(set3)\n"
   ]
  },
  {
   "cell_type": "code",
   "execution_count": 55,
   "id": "8b42b8d3-b9b9-4f07-bfed-4177bc6d9a8d",
   "metadata": {},
   "outputs": [
    {
     "data": {
      "text/plain": [
       "{'Audi', 'Bence'}"
      ]
     },
     "execution_count": 55,
     "metadata": {},
     "output_type": "execute_result"
    }
   ],
   "source": [
    "# Removing Values.\n",
    "\n",
    "list2= {\"Bence\", \"Audi\",\"Fero\"}\n",
    "list2.discard(\"Fero\")\n",
    "list2\n"
   ]
  },
  {
   "cell_type": "code",
   "execution_count": 63,
   "id": "1ac15336-6431-42fa-b50f-f5b714560b8d",
   "metadata": {},
   "outputs": [
    {
     "name": "stdout",
     "output_type": "stream",
     "text": [
      "{0, 'Def', 3, 4.0, 'Ear', 'saer'}\n",
      "0\n",
      "{'Def', 3, 4.0, 'Ear', 'saer'}\n"
     ]
    }
   ],
   "source": [
    "#removing values by their index sets.\n",
    "\n",
    "myset = {\"Def\", \"Ear\", 3, 4.0, \"saer\", 0}\n",
    "print(myset)\n",
    "\n",
    "x = myset.pop()\n",
    "\n",
    "print(x)\n",
    "print(myset)\n"
   ]
  },
  {
   "cell_type": "code",
   "execution_count": null,
   "id": "2d29c230-0fb7-4b95-8d41-38d4c747dd78",
   "metadata": {},
   "outputs": [],
   "source": []
  }
 ],
 "metadata": {
  "kernelspec": {
   "display_name": "Python [conda env:base] *",
   "language": "python",
   "name": "conda-base-py"
  },
  "language_info": {
   "codemirror_mode": {
    "name": "ipython",
    "version": 3
   },
   "file_extension": ".py",
   "mimetype": "text/x-python",
   "name": "python",
   "nbconvert_exporter": "python",
   "pygments_lexer": "ipython3",
   "version": "3.12.7"
  }
 },
 "nbformat": 4,
 "nbformat_minor": 5
}
