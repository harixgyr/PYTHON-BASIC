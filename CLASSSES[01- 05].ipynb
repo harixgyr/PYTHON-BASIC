{
 "cells": [
  {
   "cell_type": "markdown",
   "id": "e5d26902-c624-448a-a4be-81083d9b9205",
   "metadata": {},
   "source": [
    "# CLASSES"
   ]
  },
  {
   "cell_type": "markdown",
   "id": "d0df7377-6644-41e8-b8a9-e450fa641cda",
   "metadata": {},
   "source": [
    "<font size = '5'>Creating class for a simple fun().</font>"
   ]
  },
  {
   "cell_type": "code",
   "execution_count": 41,
   "id": "e3860c8b-ed8a-4fb8-a831-3e514b4a929f",
   "metadata": {},
   "outputs": [
    {
     "name": "stdout",
     "output_type": "stream",
     "text": [
      "Values: 35\n"
     ]
    }
   ],
   "source": [
    "# Creating Class\n",
    "class item:\n",
    "\n",
    "#Functions:    \n",
    "    quant1 = 23\n",
    "    quant2 = 12\n",
    "    quant  = quant1 + quant2\n",
    "\n",
    "#Creating Objecct for a created Class.\n",
    "value = item()\n",
    "\n",
    "#Calling an Object.\n",
    "print(\"Values:\",value.quant)\n"
   ]
  },
  {
   "cell_type": "markdown",
   "id": "dcd62c7e-1114-4d73-9741-8fd700bfa70f",
   "metadata": {},
   "source": [
    "<font size = '5'>Creating Class for a solving by user input type</font>"
   ]
  },
  {
   "cell_type": "code",
   "execution_count": 54,
   "id": "573e17c5-7a9b-4b5c-a369-597454b226b0",
   "metadata": {},
   "outputs": [
    {
     "name": "stdin",
     "output_type": "stream",
     "text": [
      "Enter your number: 10\n",
      "Enter your number: 5\n"
     ]
    },
    {
     "name": "stdout",
     "output_type": "stream",
     "text": [
      "Add of(a,b): 15\n",
      "Sub of(a,b): 5\n",
      "Mul of(a,b): 50\n"
     ]
    }
   ],
   "source": [
    "#Creating Class \n",
    "class myobj():\n",
    "    \n",
    "#Functions:    \n",
    "    def add(value):\n",
    "        print(\"Add of(a,b):\", a+b)\n",
    "        print(\"Sub of(a,b):\", a-b)\n",
    "        print(\"Mul of(a,b):\", a*b)\n",
    "\n",
    "#User Input.\n",
    "input1 = int(input(\"Enter your number:\"))\n",
    "input2 = int(input(\"Enter your number:\"))\n",
    "a = input1\n",
    "b = input2\n",
    "\n",
    "#Creating object for a created class.\n",
    "mylist = myobj()\n",
    "\n",
    "#Call the object.\n",
    "mylist.add()\n"
   ]
  },
  {
   "cell_type": "markdown",
   "id": "b6c6bb06-f65f-4a57-bd15-754bec914860",
   "metadata": {},
   "source": [
    "<font size = '5'> Classes with Init()form</font>"
   ]
  },
  {
   "cell_type": "code",
   "execution_count": 129,
   "id": "eba697ad-4ac1-4497-9d0c-33fa6dd891c8",
   "metadata": {},
   "outputs": [
    {
     "name": "stdout",
     "output_type": "stream",
     "text": [
      "32\n",
      "88\n"
     ]
    }
   ],
   "source": [
    "#Creating class\n",
    "class margin():\n",
    "    \n",
    "#define initiating    \n",
    "    def __init__(mark, a , b, c):\n",
    "        mark.num1 = a\n",
    "        mark.num2 = b\n",
    "        mark.num3 = c\n",
    "    def add(mark):\n",
    "        print(mark.num1 + mark.num2)\n",
    "    def sub(mark):\n",
    "        print(mark.num3 - mark.num1)\n",
    "\n",
    "#Creating object_name for a created class.\n",
    "max = margin(12, 20, 100)\n",
    "\n",
    "#Calling Object.\n",
    "max.add()\n",
    "max.sub()\n"
   ]
  },
  {
   "cell_type": "markdown",
   "id": "8a0c6b29-95cf-4f91-ad07-b0a425a41eb2",
   "metadata": {},
   "source": [
    "<font size = '5'> Classes with Init() form by user input</font>"
   ]
  },
  {
   "cell_type": "code",
   "execution_count": 148,
   "id": "940af1d4-ef66-4325-b274-368344d1e30d",
   "metadata": {},
   "outputs": [
    {
     "name": "stdin",
     "output_type": "stream",
     "text": [
      "Number1: 3\n",
      "Number2: 20\n",
      "Number3: 30\n"
     ]
    },
    {
     "name": "stdout",
     "output_type": "stream",
     "text": [
      "ANS: 23\n",
      "ANS: 10\n",
      "ANS: 17\n"
     ]
    }
   ],
   "source": [
    "#Creating class\n",
    "class mymart:\n",
    "   \n",
    "#Define Init_fun():    \n",
    "    def __init__(pro, a, b, c):\n",
    "        pro.n1 = a\n",
    "        pro.n2 = b\n",
    "        pro.n3 = c\n",
    "    \n",
    "    def add(pro):\n",
    "        print(\"ANS:\", pro.n1 +  pro.n2)\n",
    "        print(\"ANS:\", pro.n3 // pro.n1)\n",
    "        print(\"ANS:\", pro.n2 - pro.n1)\n",
    "\n",
    "#User input for variables.\n",
    "inr1 = int(input(\"Number1:\"))\n",
    "inr2 = int(input(\"Number2:\"))\n",
    "inr3 = int(input(\"Number3:\"))\n",
    "\n",
    "#Creating object_name for created class.\n",
    "sold = mymart(inr1, inr2, inr3)\n",
    "\n",
    "#Calling object\n",
    "sold.add()\n"
   ]
  },
  {
   "cell_type": "code",
   "execution_count": null,
   "id": "8472609f-45c6-4fe8-b33a-26ef21362802",
   "metadata": {},
   "outputs": [],
   "source": []
  }
 ],
 "metadata": {
  "kernelspec": {
   "display_name": "Python [conda env:base] *",
   "language": "python",
   "name": "conda-base-py"
  },
  "language_info": {
   "codemirror_mode": {
    "name": "ipython",
    "version": 3
   },
   "file_extension": ".py",
   "mimetype": "text/x-python",
   "name": "python",
   "nbconvert_exporter": "python",
   "pygments_lexer": "ipython3",
   "version": "3.12.7"
  }
 },
 "nbformat": 4,
 "nbformat_minor": 5
}
