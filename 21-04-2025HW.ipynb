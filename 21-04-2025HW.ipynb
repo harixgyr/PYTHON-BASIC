{
 "cells": [
  {
   "cell_type": "markdown",
   "id": "7c798949-6826-42f9-a2b0-41e72907170b",
   "metadata": {},
   "source": [
    "# Functions"
   ]
  },
  {
   "cell_type": "code",
   "execution_count": 6,
   "id": "3666e1b1-db79-4fa6-a009-cabd1c3213d4",
   "metadata": {},
   "outputs": [
    {
     "name": "stdout",
     "output_type": "stream",
     "text": [
      "How are you\n"
     ]
    }
   ],
   "source": [
    "#Calling Function\n",
    "\n",
    "def fun():\n",
    "    print(\"How are you\")\n",
    "fun()\n"
   ]
  },
  {
   "cell_type": "code",
   "execution_count": 16,
   "id": "8b21ea6f-de5f-4c4c-bc2d-653f5c1bf651",
   "metadata": {},
   "outputs": [
    {
     "name": "stdout",
     "output_type": "stream",
     "text": [
      "75\n"
     ]
    }
   ],
   "source": [
    "# INTEGER\n",
    "\n",
    "def add():\n",
    "    a = 54\n",
    "    b = 21\n",
    "    print(a + b)\n",
    "\n",
    "add()\n"
   ]
  },
  {
   "cell_type": "code",
   "execution_count": 36,
   "id": "3c9cef14-dcab-4d9c-9bac-85d122a9010f",
   "metadata": {},
   "outputs": [
    {
     "name": "stdout",
     "output_type": "stream",
     "text": [
      "7\n"
     ]
    }
   ],
   "source": [
    "#INTEGER\n",
    "\n",
    "def sub(a,b):\n",
    "    print(a-b)\n",
    "\n",
    "sub(10,3)\n"
   ]
  },
  {
   "cell_type": "code",
   "execution_count": 58,
   "id": "ad675f2c-4f48-4fd9-be2e-0d3911c7e476",
   "metadata": {},
   "outputs": [
    {
     "name": "stdout",
     "output_type": "stream",
     "text": [
      "8\n"
     ]
    }
   ],
   "source": [
    "#FINDING Maximum values in a list\n",
    "\n",
    "k = [3, 4, 5, 6, 7, 8]\n",
    "m = k[0] \n",
    "for j in k :\n",
    "    if j > m:\n",
    "        m = j\n",
    "print(m)\n"
   ]
  },
  {
   "cell_type": "code",
   "execution_count": 60,
   "id": "80786ac1-6ea3-4e8f-9c01-bc50f55a7549",
   "metadata": {},
   "outputs": [
    {
     "name": "stdout",
     "output_type": "stream",
     "text": [
      "11\n"
     ]
    }
   ],
   "source": [
    "#Finding Length of a list.\n",
    "\n",
    "a = [1, 2, 3, 4, 5, 6, 7, 7, 8, 9, 10]\n",
    "\n",
    "b = 0\n",
    "for i in a:\n",
    "    b+= 1\n",
    "print( b )\n"
   ]
  },
  {
   "cell_type": "code",
   "execution_count": 72,
   "id": "fb8d21c5-c59c-4dfa-8877-25e9c4842a4c",
   "metadata": {},
   "outputs": [
    {
     "name": "stdout",
     "output_type": "stream",
     "text": [
      "5\n",
      "None\n",
      "13\n"
     ]
    }
   ],
   "source": [
    "\n",
    "def add(a, b):\n",
    "    c = a + b\n",
    "    return c\n",
    "k = add(9,4)\n",
    "k1 = sub(9, 4)\n",
    "print(k1)\n",
    "print(k)\n"
   ]
  },
  {
   "cell_type": "code",
   "execution_count": 80,
   "id": "2cf32a45-9dbb-43a1-83a6-8b8155171b46",
   "metadata": {},
   "outputs": [
    {
     "name": "stdout",
     "output_type": "stream",
     "text": [
      "36\n",
      "True\n"
     ]
    }
   ],
   "source": [
    "#Calling Value printing values.\n",
    "\n",
    "def add(num1, num2):\n",
    "    print(num1 + num2)\n",
    "    print(num2 > num1)\n",
    "add(num1 = 12, num2 = 24)\n"
   ]
  },
  {
   "cell_type": "code",
   "execution_count": 84,
   "id": "1b06a355-80b6-416c-82c9-ca75b684473c",
   "metadata": {},
   "outputs": [
    {
     "name": "stdout",
     "output_type": "stream",
     "text": [
      "24\n"
     ]
    }
   ],
   "source": [
    "\n",
    "def add(**num):\n",
    "    print(num[\"num2\"])\n",
    "add(num1 = 12, num2 = 24, num3 = 34)\n"
   ]
  },
  {
   "cell_type": "code",
   "execution_count": 88,
   "id": "e5507cc4-12c1-4e79-bb7f-61d2f2cd9a87",
   "metadata": {},
   "outputs": [
    {
     "name": "stdin",
     "output_type": "stream",
     "text": [
      "Enter your num: 34\n"
     ]
    },
    {
     "name": "stdout",
     "output_type": "stream",
     "text": [
      "Aged\n"
     ]
    }
   ],
   "source": [
    "#Calling Function by if clause .\n",
    "\n",
    "def age(a):\n",
    "    if a < 18:\n",
    "        print(\"Child\")\n",
    "    elif  a > 18 and a > 50:\n",
    "        print(\"Adult\")\n",
    "    else:\n",
    "        print(\"Aged\")\n",
    "a = int(input(\"Enter your num:\"))\n",
    "age(a)\n"
   ]
  },
  {
   "cell_type": "code",
   "execution_count": 98,
   "id": "9fe0ccce-356a-48a9-91b9-2459467819ff",
   "metadata": {},
   "outputs": [
    {
     "name": "stdout",
     "output_type": "stream",
     "text": [
      "{1: 2, 2: 1, 33: 2, 43: 1, 56: 1}\n"
     ]
    }
   ],
   "source": [
    "#Calling function by dict.\n",
    "\n",
    "def dict(l):\n",
    "    D = {}\n",
    "    for dict in l:\n",
    "        if dict in D:\n",
    "            D[dict] += 1\n",
    "        else:\n",
    "            D[dict] = 1\n",
    "    return D\n",
    "\n",
    "l=[1,1,2,33,43,56,33]\n",
    "\n",
    "result = dict(l)                    #Calling a function\n",
    "\n",
    "print(result)\n"
   ]
  },
  {
   "cell_type": "code",
   "execution_count": null,
   "id": "3181f62b-b945-40d2-be48-4044b5bb7304",
   "metadata": {},
   "outputs": [],
   "source": []
  }
 ],
 "metadata": {
  "kernelspec": {
   "display_name": "Python [conda env:base] *",
   "language": "python",
   "name": "conda-base-py"
  },
  "language_info": {
   "codemirror_mode": {
    "name": "ipython",
    "version": 3
   },
   "file_extension": ".py",
   "mimetype": "text/x-python",
   "name": "python",
   "nbconvert_exporter": "python",
   "pygments_lexer": "ipython3",
   "version": "3.12.7"
  }
 },
 "nbformat": 4,
 "nbformat_minor": 5
}
