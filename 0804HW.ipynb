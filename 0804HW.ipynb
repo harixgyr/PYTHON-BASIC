{
 "cells": [
  {
   "cell_type": "markdown",
   "id": "c972d2bb-474c-4e18-963f-6dbc18843178",
   "metadata": {},
   "source": [
    "<font size ='5'> String Modification </font>"
   ]
  },
  {
   "cell_type": "code",
   "execution_count": 175,
   "id": "aef41833-3025-41bf-a00a-78bb9ad8b09e",
   "metadata": {},
   "outputs": [
    {
     "name": "stdout",
     "output_type": "stream",
     "text": [
      "HEY THERE\n"
     ]
    }
   ],
   "source": [
    "#UpperCase \n",
    "\n",
    "a=\"hey there\" \n",
    "print(a.upper())"
   ]
  },
  {
   "cell_type": "code",
   "execution_count": 177,
   "id": "ac4cfe85-c8cb-4ca0-a21c-8edf8f7c614b",
   "metadata": {},
   "outputs": [
    {
     "name": "stdout",
     "output_type": "stream",
     "text": [
      "hey there\n"
     ]
    }
   ],
   "source": [
    "#LowerCase\n",
    "\n",
    "b=\"HEY THERE\"\n",
    "print(b.lower())"
   ]
  },
  {
   "cell_type": "code",
   "execution_count": 179,
   "id": "54bb901c-1d11-43bb-a1ea-63669ae0dcfd",
   "metadata": {},
   "outputs": [
    {
     "name": "stdout",
     "output_type": "stream",
     "text": [
      "Who are you \n"
     ]
    }
   ],
   "source": [
    "#Capitalize\n",
    "\n",
    "c=\"who are you \"\n",
    "print(c.capitalize())"
   ]
  },
  {
   "cell_type": "code",
   "execution_count": 181,
   "id": "d8e8ab17-779f-4933-9bc0-69b572b70ed0",
   "metadata": {},
   "outputs": [
    {
     "name": "stdout",
     "output_type": "stream",
     "text": [
      "Give your name to the teacher\n"
     ]
    }
   ],
   "source": [
    "#Strip(\"removing the unwanted spaces or char\")\n",
    "\n",
    "d=\"  Give your name to the teacher     \"\n",
    "print(d.strip())"
   ]
  },
  {
   "cell_type": "code",
   "execution_count": 183,
   "id": "92daec8e-e8d6-4822-92a9-040721b35be4",
   "metadata": {},
   "outputs": [
    {
     "name": "stdout",
     "output_type": "stream",
     "text": [
      "34\n",
      "29\n",
      "   Give your name to the teacher  \n",
      "Give your name to the teacher\n"
     ]
    }
   ],
   "source": [
    "#Strip with Length\n",
    "\n",
    "e=\"   Give your name to the teacher  \"\n",
    "e1=e.strip()\n",
    "print(len(e))\n",
    "print(len(e1))\n",
    "print(e)\n",
    "print(e1)"
   ]
  },
  {
   "cell_type": "code",
   "execution_count": 185,
   "id": "48a5915a-8794-4113-baac-d237a3e02371",
   "metadata": {},
   "outputs": [
    {
     "name": "stdout",
     "output_type": "stream",
     "text": [
      "['Hey,', 'are', 'you', 'there', '!']\n"
     ]
    }
   ],
   "source": [
    "#Split \n",
    "\n",
    "f= \"Hey, are you there !  \"\n",
    "print(f.split())"
   ]
  },
  {
   "cell_type": "markdown",
   "id": "28f35fc2-9369-4574-aef3-df497e69fe59",
   "metadata": {},
   "source": [
    "<font size=\"4\"> String Formating</font>"
   ]
  },
  {
   "cell_type": "code",
   "execution_count": 200,
   "id": "89c95ac4-99ee-494c-bf11-2bc0bc051359",
   "metadata": {
    "scrolled": true
   },
   "outputs": [
    {
     "name": "stdin",
     "output_type": "stream",
     "text": [
      "enter your id 111\n",
      "enter your name DEV\n"
     ]
    },
    {
     "name": "stdout",
     "output_type": "stream",
     "text": [
      "my id is111 and my name is DEV\n"
     ]
    }
   ],
   "source": [
    "#Input Formatting String\n",
    "\n",
    "g = input(\"enter your id\")\n",
    "g1 = input(\"enter your name\")\n",
    "k=f\"my id is{g} and my name is {g1}\"\n",
    "print(k)"
   ]
  },
  {
   "cell_type": "code",
   "execution_count": null,
   "id": "b5d0b5c3-aa8a-4f5d-941a-7907f6f69f3f",
   "metadata": {},
   "outputs": [],
   "source": []
  },
  {
   "cell_type": "markdown",
   "id": "fdde8f6f-071d-4686-844e-d632afda5187",
   "metadata": {},
   "source": [
    "<font size='5'> String Methods </font>"
   ]
  },
  {
   "cell_type": "code",
   "execution_count": 204,
   "id": "e68f267a-7b2b-48b3-81be-9baaefa25dae",
   "metadata": {},
   "outputs": [
    {
     "name": "stdout",
     "output_type": "stream",
     "text": [
      "comino\n"
     ]
    }
   ],
   "source": [
    "#\"Maketrans()\" : create a rules for how to replace values with [letters or intereger] in a string.\n",
    "\n",
    "ds = str.maketrans(\"abcdef\", \"welcom\")\n",
    "\n",
    "#\"Translate()\" : Applying the created rules in a string.\n",
    "\n",
    "print(\"define\".translate(ds))\n"
   ]
  },
  {
   "cell_type": "code",
   "execution_count": 202,
   "id": "34e88fbf-614f-4631-9481-69aa3e4ac6fd",
   "metadata": {},
   "outputs": [
    {
     "name": "stdout",
     "output_type": "stream",
     "text": [
      "D1ng5r\n"
     ]
    }
   ],
   "source": [
    "#Maketrans() and Translate() with integer.\n",
    "\n",
    "da = str.maketrans(\"abcde\", \"12345\")\n",
    "print(\"Danger\".translate(da))"
   ]
  },
  {
   "cell_type": "code",
   "execution_count": null,
   "id": "e6b00f2d-9139-44ac-b68a-c458e9e7890e",
   "metadata": {},
   "outputs": [],
   "source": []
  },
  {
   "cell_type": "code",
   "execution_count": 250,
   "id": "8bcfc630-30cb-4a96-84ac-b462c21b8e1e",
   "metadata": {},
   "outputs": [
    {
     "name": "stdout",
     "output_type": "stream",
     "text": [
      "0034\n"
     ]
    }
   ],
   "source": [
    "#\"Zfill()\" : pads with zeros on the left of a string until it reacches its nth position.\n",
    "\n",
    "a=\"34\"\n",
    "a1=a.zfill(4)\n",
    "print(a1)\n"
   ]
  },
  {
   "cell_type": "code",
   "execution_count": null,
   "id": "b13e19e5-1910-468b-96cb-45cc857004af",
   "metadata": {},
   "outputs": [],
   "source": []
  },
  {
   "cell_type": "code",
   "execution_count": 195,
   "id": "3e51a5cb-6b9c-4351-bbcc-3ba7c0ad3ab9",
   "metadata": {},
   "outputs": [
    {
     "name": "stdout",
     "output_type": "stream",
     "text": [
      "b'JIO'\n"
     ]
    }
   ],
   "source": [
    "#\"Encode()\" : Convert string into bytes format ; as sending over networks.\n",
    "\n",
    "d=\"JIO\"\n",
    "print(d.encode())\n"
   ]
  },
  {
   "cell_type": "code",
   "execution_count": null,
   "id": "0c477a87-62dc-4f95-9125-2761faebe002",
   "metadata": {},
   "outputs": [],
   "source": []
  },
  {
   "cell_type": "code",
   "execution_count": 248,
   "id": "95b45d2c-16fc-4fca-81a6-677783cfd129",
   "metadata": {},
   "outputs": [
    {
     "name": "stdout",
     "output_type": "stream",
     "text": [
      "hey man how are you ?\n"
     ]
    }
   ],
   "source": [
    "#\"Join()\" : Combine all the splitted words into a group .\n",
    "\n",
    "s1=[\"hey\",\"man\",\"how\",\"are\",\"you\",\"?\"]\n",
    "Sent=\" \".join(s1) \n",
    "print(Sent)\n"
   ]
  },
  {
   "cell_type": "code",
   "execution_count": null,
   "id": "d84e9d1f-d405-4435-b31f-496651562446",
   "metadata": {},
   "outputs": [],
   "source": []
  },
  {
   "cell_type": "code",
   "execution_count": 264,
   "id": "f0b91cac-75a2-4e2d-a422-4807978923b3",
   "metadata": {},
   "outputs": [
    {
     "name": "stdout",
     "output_type": "stream",
     "text": [
      "('they', '-', 'came')\n"
     ]
    }
   ],
   "source": [
    "#Partition() : Splits the string into 3 parts if it matches before , current and after position.\n",
    "\n",
    "sample= \"they-came\"\n",
    "print(sample.partition('-'))\n"
   ]
  },
  {
   "cell_type": "code",
   "execution_count": null,
   "id": "9256ba4c-177d-4da6-90d2-59e76c6879bf",
   "metadata": {},
   "outputs": [],
   "source": []
  },
  {
   "cell_type": "code",
   "execution_count": 294,
   "id": "89dc7958-ce86-4b3b-b2d3-8ed35a73ed5d",
   "metadata": {},
   "outputs": [
    {
     "name": "stdout",
     "output_type": "stream",
     "text": [
      "True\n",
      "False\n"
     ]
    }
   ],
   "source": [
    "#Isalphanumeric() & Isalpha() \n",
    "\n",
    "a=\"INDIA123\"\n",
    "a1=\"INDIA12\"\n",
    "x=a.isalnum()\n",
    "y=a1.isalpha()\n",
    "print(x)\n",
    "print(y)\n"
   ]
  },
  {
   "cell_type": "code",
   "execution_count": null,
   "id": "a427756e-021d-43fb-95c5-8790f9b85d7c",
   "metadata": {},
   "outputs": [],
   "source": []
  },
  {
   "cell_type": "code",
   "execution_count": 20,
   "id": "640a7be1-0f86-4ccb-9519-6b4daeb6a9ab",
   "metadata": {},
   "outputs": [
    {
     "name": "stdout",
     "output_type": "stream",
     "text": [
      "straße\n",
      "strasse\n"
     ]
    }
   ],
   "source": [
    "#CASEFOLD & LOWER\n",
    "\n",
    "s1=\"StraßE\"\n",
    "s2=\"STRASSE\"\n",
    "print(s1.lower())\n",
    "print(s1.casefold())"
   ]
  },
  {
   "cell_type": "code",
   "execution_count": null,
   "id": "bb557286-897d-49ec-bfbb-83d502aab905",
   "metadata": {},
   "outputs": [],
   "source": []
  }
 ],
 "metadata": {
  "kernelspec": {
   "display_name": "Python [conda env:base] *",
   "language": "python",
   "name": "conda-base-py"
  },
  "language_info": {
   "codemirror_mode": {
    "name": "ipython",
    "version": 3
   },
   "file_extension": ".py",
   "mimetype": "text/x-python",
   "name": "python",
   "nbconvert_exporter": "python",
   "pygments_lexer": "ipython3",
   "version": "3.12.7"
  }
 },
 "nbformat": 4,
 "nbformat_minor": 5
}
