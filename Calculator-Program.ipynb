{
 "cells": [
  {
   "cell_type": "markdown",
   "id": "d2bc9fa4-12a4-4da7-af38-d17cbc91eb93",
   "metadata": {},
   "source": [
    "# CALCULATOR PROGRAM WITH ERROR HANDLING ."
   ]
  },
  {
   "cell_type": "code",
   "execution_count": 66,
   "id": "65282222-9704-44d6-aa1c-2eee67aa50a5",
   "metadata": {},
   "outputs": [
    {
     "name": "stdin",
     "output_type": "stream",
     "text": [
      "Number1: 2-a\n"
     ]
    },
    {
     "name": "stdout",
     "output_type": "stream",
     "text": [
      "\n",
      " Error: Please enter valid integer values. \n"
     ]
    }
   ],
   "source": [
    "#Creating class\n",
    "class Calculator:\n",
    "   \n",
    "#Define Init_fun():    \n",
    "    def __init__(self, a, b):\n",
    "        self.n1 = a\n",
    "        self.n2 = b\n",
    "    \n",
    "    def add(self):\n",
    "        try:\n",
    "            print(\"ADD:\", self.n1 +  self.n2)\n",
    "            print(\"SUB:\", self.n1 - self.n2)\n",
    "            print(\"MUL:\", self.n1 * self.n2)\n",
    "            print(\"DIV:\", self.n1 / self.n2)\n",
    "        except ZeroDivisionError:\n",
    "            print(\"\\n Error: Division by 0 is not exists.\")\n",
    "        except NameError:\n",
    "            print(\"\\n Error: Variable is not defined.  \")\n",
    "try:\n",
    "#User input for variables.\n",
    "    a = int(input(\"Number1:\"))\n",
    "    b = int(input(\"Number2:\"))\n",
    "\n",
    "#Creating object_name for created class.\n",
    "    sold = Calculator(a, b)\n",
    "\n",
    "#Calling objects.\n",
    "    sold.add()\n",
    "\n",
    "except ValueError:\n",
    "    print(\"\\n Error: Please enter valid integer values. \")\n",
    "except Exception as e:\n",
    "    print(\"\\n Error: There is an indentation problem in the code.\")\n",
    "    "
   ]
  },
  {
   "cell_type": "code",
   "execution_count": null,
   "id": "cd19da22-6e77-4f0b-92f8-89cd965573af",
   "metadata": {},
   "outputs": [],
   "source": []
  },
  {
   "cell_type": "code",
   "execution_count": null,
   "id": "519832cd-ba29-4554-87b6-51a43eedb79b",
   "metadata": {},
   "outputs": [],
   "source": []
  }
 ],
 "metadata": {
  "kernelspec": {
   "display_name": "Python [conda env:base] *",
   "language": "python",
   "name": "conda-base-py"
  },
  "language_info": {
   "codemirror_mode": {
    "name": "ipython",
    "version": 3
   },
   "file_extension": ".py",
   "mimetype": "text/x-python",
   "name": "python",
   "nbconvert_exporter": "python",
   "pygments_lexer": "ipython3",
   "version": "3.12.7"
  }
 },
 "nbformat": 4,
 "nbformat_minor": 5
}
