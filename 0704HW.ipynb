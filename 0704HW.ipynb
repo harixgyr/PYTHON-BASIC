{
 "cells": [
  {
   "cell_type": "markdown",
   "id": "f4940e73-b534-4483-87cc-72c91aac78de",
   "metadata": {},
   "source": [
    " <font size = '5'> INT, STR, FLOAT, COMPLEX </font>"
   ]
  },
  {
   "cell_type": "code",
   "execution_count": 69,
   "id": "939a7f0d-5785-4381-a36a-f1d0b93509a3",
   "metadata": {},
   "outputs": [
    {
     "name": "stdout",
     "output_type": "stream",
     "text": [
      "<class 'int'>\n"
     ]
    }
   ],
   "source": [
    "#INT\n",
    "\n",
    "h=65\n",
    "print(type(h))"
   ]
  },
  {
   "cell_type": "code",
   "execution_count": 71,
   "id": "3042b5c1-6da2-4435-b9d9-00d44ad028cc",
   "metadata": {},
   "outputs": [
    {
     "name": "stdout",
     "output_type": "stream",
     "text": [
      "<class 'str'>\n"
     ]
    }
   ],
   "source": [
    "#STR\n",
    "\n",
    "h1=\"adcbfgds\"\n",
    "print(type(h1))"
   ]
  },
  {
   "cell_type": "code",
   "execution_count": 73,
   "id": "a97b8972-eec3-4bf7-9f39-fc7742333483",
   "metadata": {},
   "outputs": [
    {
     "name": "stdout",
     "output_type": "stream",
     "text": [
      "<class 'float'>\n"
     ]
    }
   ],
   "source": [
    "#FLOAT\n",
    "\n",
    "h2=45600.124\n",
    "print(type(h2))"
   ]
  },
  {
   "cell_type": "code",
   "execution_count": 75,
   "id": "9a89c481-c03a-4a13-b348-e28d91fb6d0d",
   "metadata": {},
   "outputs": [
    {
     "name": "stdout",
     "output_type": "stream",
     "text": [
      "<class 'complex'>\n"
     ]
    }
   ],
   "source": [
    "#COMPLEX\n",
    "\n",
    "h3=4+2j\n",
    "print(type(h3))"
   ]
  },
  {
   "cell_type": "markdown",
   "id": "f9195a83-4caf-4555-88b3-5a1ca8a2cae4",
   "metadata": {},
   "source": [
    "### <font size = '4'>CASTING </font>"
   ]
  },
  {
   "cell_type": "code",
   "execution_count": 78,
   "id": "57854f58-09b8-4714-bf40-a944fa1c8c90",
   "metadata": {},
   "outputs": [
    {
     "name": "stdin",
     "output_type": "stream",
     "text": [
      "enter the number 44\n"
     ]
    },
    {
     "name": "stdout",
     "output_type": "stream",
     "text": [
      "<class 'float'>\n"
     ]
    }
   ],
   "source": [
    "q=float(input(\"enter the number\"))\n",
    "print(type(q))"
   ]
  },
  {
   "cell_type": "code",
   "execution_count": 80,
   "id": "1f362889-37e0-4704-aa95-38414d4ebf05",
   "metadata": {},
   "outputs": [
    {
     "data": {
      "text/plain": [
       "3"
      ]
     },
     "execution_count": 80,
     "metadata": {},
     "output_type": "execute_result"
    }
   ],
   "source": [
    "j=int(3.5)\n",
    "j"
   ]
  },
  {
   "cell_type": "code",
   "execution_count": 82,
   "id": "b00a59c6-fac3-4472-b395-675a497324c9",
   "metadata": {},
   "outputs": [
    {
     "name": "stdout",
     "output_type": "stream",
     "text": [
      "3.0\n",
      "254.0\n"
     ]
    }
   ],
   "source": [
    "a=3+254j\n",
    "print(a.real)\n",
    "print(a.imag)"
   ]
  },
  {
   "cell_type": "markdown",
   "id": "90f03cce-1c46-475f-b16d-9027b0ead43f",
   "metadata": {},
   "source": [
    "### int into 'STR, FLOAT & COMPLEX'"
   ]
  },
  {
   "cell_type": "code",
   "execution_count": 85,
   "id": "655ea61e-9979-4659-ba37-e3a622d5aa5b",
   "metadata": {},
   "outputs": [
    {
     "name": "stdout",
     "output_type": "stream",
     "text": [
      "65\n",
      "65.0\n",
      "(65+0j)\n"
     ]
    }
   ],
   "source": [
    "h=65\n",
    "h5=str(h)\n",
    "h6=float(h)\n",
    "h7=complex(h)\n",
    "print(h5)\n",
    "print(h6)\n",
    "print(h7)"
   ]
  },
  {
   "cell_type": "markdown",
   "id": "6e5f6083-ba32-4f6d-9983-71452cac0dd0",
   "metadata": {},
   "source": [
    "### complex into 'STR ; only by real part can change into INT & FLOAT'\n"
   ]
  },
  {
   "cell_type": "code",
   "execution_count": 88,
   "id": "10f0dbb8-2946-4100-bb7f-152d6e826b70",
   "metadata": {},
   "outputs": [
    {
     "name": "stdout",
     "output_type": "stream",
     "text": [
      "<class 'complex'>\n",
      "4\n",
      "4.0\n",
      "(4+34j)\n"
     ]
    }
   ],
   "source": [
    "b=4+34j\n",
    "b5=str(b)\n",
    "\n",
    "b2= b.real\n",
    "b1=int(b2)\n",
    "\n",
    "b9= b.real\n",
    "b7=float(b9)\n",
    "\n",
    "print(type(b))\n",
    "print(b1)\n",
    "print(b7)\n",
    "print(b5)"
   ]
  },
  {
   "cell_type": "markdown",
   "id": "b68abfff-01cc-4f4b-98eb-d4348e84b1f3",
   "metadata": {},
   "source": [
    "### float into 'INT, STR & COMPLEX'"
   ]
  },
  {
   "cell_type": "code",
   "execution_count": 91,
   "id": "053ee11b-101f-4a1c-b858-395c344980af",
   "metadata": {},
   "outputs": [
    {
     "name": "stdout",
     "output_type": "stream",
     "text": [
      "<class 'float'>\n",
      "65000\n",
      "65000.32\n",
      "(65000.32+0j)\n"
     ]
    }
   ],
   "source": [
    "c=65000.32\n",
    "c1=int(c)\n",
    "c2=str(c)\n",
    "c3=complex(c)\n",
    "print(type(c))\n",
    "print(c1)\n",
    "print(c2)\n",
    "print(c3)"
   ]
  },
  {
   "cell_type": "markdown",
   "id": "4d722814-9bd4-4e5a-9121-e0ac825db6d4",
   "metadata": {},
   "source": [
    "### str numeric into 'INT, FLOAT & COMPLEX' "
   ]
  },
  {
   "cell_type": "code",
   "execution_count": 94,
   "id": "d9681a0f-70f0-4fda-a891-144a1fa64c09",
   "metadata": {},
   "outputs": [
    {
     "name": "stdout",
     "output_type": "stream",
     "text": [
      "<class 'str'>\n",
      "45600\n",
      "45600.0\n",
      "(45600+0j)\n"
     ]
    }
   ],
   "source": [
    "d = \"45600\"\n",
    "d1=int(d)\n",
    "d2=float(d)\n",
    "d3=complex(d)\n",
    "print(type(d))\n",
    "print(d1)\n",
    "print(d2)\n",
    "print(d3)"
   ]
  },
  {
   "cell_type": "code",
   "execution_count": null,
   "id": "5233ea22-a5d0-49cb-8566-f6af6b3243b5",
   "metadata": {},
   "outputs": [],
   "source": []
  },
  {
   "cell_type": "markdown",
   "id": "4cb76412-05e4-4004-bbb0-e9d66031c845",
   "metadata": {},
   "source": [
    "<font size = '5'> STRING TYPES </font>"
   ]
  },
  {
   "cell_type": "markdown",
   "id": "c6097bd9-3764-4f59-b495-282b61d98e83",
   "metadata": {},
   "source": [
    "### String : \"SingleLine, MultiLine, Length & Indexing\" "
   ]
  },
  {
   "cell_type": "code",
   "execution_count": 139,
   "id": "8ceee96a-a4ba-4351-b690-3447a030216f",
   "metadata": {},
   "outputs": [
    {
     "name": "stdout",
     "output_type": "stream",
     "text": [
      "hey genie\n",
      "Their eyes met beneath the stars, as if fate had painted the sky for them.\n",
      "She laughed like moonlight on water, soft and impossible to forget.\n",
      "He held her hand, unsure if time would be kind.\n",
      "But in that moment, forever felt just a heartbeat away\n",
      "24\n",
      "i\n"
     ]
    }
   ],
   "source": [
    "#Singleline String\n",
    "\n",
    "x=\"hey genie\"\n",
    "\n",
    "#Multiline String\n",
    "\n",
    "y='''Their eyes met beneath the stars, as if fate had painted the sky for them.\n",
    "She laughed like moonlight on water, soft and impossible to forget.\n",
    "He held her hand, unsure if time would be kind.\n",
    "But in that moment, forever felt just a heartbeat away'''\n",
    "\n",
    "#String Length & Indexing\n",
    "\n",
    "z = \"HEy, World is Empherial!\"\n",
    "\n",
    "print(x)\n",
    "\n",
    "print(y)\n",
    "\n",
    "print(len(z))\n",
    "\n",
    "print(z[-4])"
   ]
  },
  {
   "cell_type": "markdown",
   "id": "021adcdd-ae62-470d-8113-d02b829fec6e",
   "metadata": {},
   "source": [
    "### String Slicing"
   ]
  },
  {
   "cell_type": "code",
   "execution_count": 144,
   "id": "23b3b0ff-bf52-4e78-8fa4-bf97e44cd395",
   "metadata": {},
   "outputs": [
    {
     "name": "stdout",
     "output_type": "stream",
     "text": [
      "gen\n"
     ]
    }
   ],
   "source": [
    "\n",
    "x=\"hey genie\"\n",
    "print(x[4:-2])"
   ]
  },
  {
   "cell_type": "code",
   "execution_count": 146,
   "id": "896fdf8f-6dbc-4553-b96b-8e5c2e0d88e1",
   "metadata": {},
   "outputs": [
    {
     "name": "stdout",
     "output_type": "stream",
     "text": [
      "hey gen\n"
     ]
    }
   ],
   "source": [
    "\n",
    "x=\"hey genie\"\n",
    "print(x[:-2])"
   ]
  },
  {
   "cell_type": "code",
   "execution_count": 148,
   "id": "a79bb928-a776-4ebd-80e2-f533df4aad6d",
   "metadata": {},
   "outputs": [
    {
     "name": "stdout",
     "output_type": "stream",
     "text": [
      "genie\n"
     ]
    }
   ],
   "source": [
    "\n",
    "x=\"hey genie\"\n",
    "print(x[4:])"
   ]
  },
  {
   "cell_type": "code",
   "execution_count": 158,
   "id": "242079ac-b21f-41d3-97a5-d389cbb8a078",
   "metadata": {},
   "outputs": [
    {
     "name": "stdout",
     "output_type": "stream",
     "text": [
      " hey g\n"
     ]
    }
   ],
   "source": [
    "\n",
    "x=\"  hey genie \"\n",
    "print(x[1:-5])"
   ]
  },
  {
   "cell_type": "code",
   "execution_count": null,
   "id": "f4997037-a50e-4c1a-9535-d6674ed988ba",
   "metadata": {},
   "outputs": [],
   "source": []
  }
 ],
 "metadata": {
  "kernelspec": {
   "display_name": "Python [conda env:base] *",
   "language": "python",
   "name": "conda-base-py"
  },
  "language_info": {
   "codemirror_mode": {
    "name": "ipython",
    "version": 3
   },
   "file_extension": ".py",
   "mimetype": "text/x-python",
   "name": "python",
   "nbconvert_exporter": "python",
   "pygments_lexer": "ipython3",
   "version": "3.12.7"
  }
 },
 "nbformat": 4,
 "nbformat_minor": 5
}
