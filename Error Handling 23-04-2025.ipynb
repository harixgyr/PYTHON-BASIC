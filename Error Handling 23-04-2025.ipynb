{
 "cells": [
  {
   "cell_type": "markdown",
   "id": "2348d09b-7b1e-4d87-acea-624c164e4607",
   "metadata": {},
   "source": [
    "# ERROR HANDLING"
   ]
  },
  {
   "cell_type": "code",
   "execution_count": 4,
   "id": "aaaea882-2a52-4664-9ebb-98bbf680139d",
   "metadata": {},
   "outputs": [
    {
     "name": "stdout",
     "output_type": "stream",
     "text": [
      "Invalid Error\n"
     ]
    }
   ],
   "source": [
    "#TRY AND EXCEPT => defining the error with own note.\n",
    "\n",
    "try:\n",
    "    a = 10\n",
    "    b = 0\n",
    "    print(a / b)\n",
    "except:\n",
    "    print(\"Invalid Error\")\n",
    "    "
   ]
  },
  {
   "cell_type": "code",
   "execution_count": 21,
   "id": "d40409d6-48b9-4fee-ab7e-8c9d1b17a54d",
   "metadata": {},
   "outputs": [
    {
     "name": "stdout",
     "output_type": "stream",
     "text": [
      "NOT VALUED\n"
     ]
    }
   ],
   "source": [
    "#defining its error as our own value placed.\n",
    "\n",
    "try:\n",
    "    a = \"hello\" \n",
    "    b = a+7 \n",
    "    print(a + b)\n",
    "except:\n",
    "    print(\"NOT VALUED\")\n"
   ]
  },
  {
   "cell_type": "code",
   "execution_count": 91,
   "id": "5cf453ca-bda2-49a7-8ca8-988f34b6416f",
   "metadata": {},
   "outputs": [
    {
     "name": "stdout",
     "output_type": "stream",
     "text": [
      "division by zero\n",
      "can only concatenate str (not \"int\") to str\n",
      "name 'c' is not defined\n"
     ]
    }
   ],
   "source": [
    "#Even without mentioned with error name , autommatically it calls its error and it is printed.\n",
    "\n",
    "try:\n",
    "    a = 5\n",
    "    b = 0\n",
    "    print(a / b)\n",
    "except Exception as e:\n",
    "    print(e)\n",
    "\n",
    "\n",
    "try:\n",
    "    a = \"hi\"\n",
    "    b = a +6\n",
    "    print(a / b)\n",
    "except Exception as e:\n",
    "    print(e)\n",
    "\n",
    "try:\n",
    "    a = \"hi\"\n",
    "    print(c)\n",
    "except Exception as e:\n",
    "    print(e)"
   ]
  },
  {
   "cell_type": "code",
   "execution_count": 41,
   "id": "e33de07f-9117-47b5-862d-233819a0d3e9",
   "metadata": {},
   "outputs": [
    {
     "name": "stdout",
     "output_type": "stream",
     "text": [
      "Zero Defined\n"
     ]
    }
   ],
   "source": [
    "#EXceuted with its own error not as an error but as notification named while excetuion.\n",
    "\n",
    "try:\n",
    "    a = 10\n",
    "    b = 0\n",
    "    print(a / b)\n",
    "except TypeError:\n",
    "    print(\"TYPE ERROR\")\n",
    "except ZeroDivisionError:\n",
    "    print(\"Zero Defined\")\n",
    "except NameError:\n",
    "    print(\"Name Error\")\n",
    "    "
   ]
  },
  {
   "cell_type": "code",
   "execution_count": 69,
   "id": "a5b47bb9-562a-4024-b879-a18d5354dd2b",
   "metadata": {},
   "outputs": [
    {
     "name": "stdout",
     "output_type": "stream",
     "text": [
      "Zero Error\n",
      "Code is Done\n"
     ]
    }
   ],
   "source": [
    "# For an complete Execution added as finally -> which is defined as after processing once it ended execution , it is displayed as notification.\n",
    "\n",
    "try:\n",
    "    a = 10\n",
    "    b = 0\n",
    "    print(a /b)\n",
    "except ZeroDivisionError:\n",
    "    print(\"Zero Error\")\n",
    "finally:\n",
    "    print(\"Code is Done\")\n",
    "    "
   ]
  },
  {
   "cell_type": "code",
   "execution_count": 67,
   "id": "76731408-10d9-459d-85a3-413051a846a3",
   "metadata": {},
   "outputs": [
    {
     "name": "stdout",
     "output_type": "stream",
     "text": [
      "50.0\n",
      "Code is Done , Next\n",
      "Error Occurs\n",
      "Code is Done , Next\n",
      "Error Occurs\n",
      "Code is Done , Next\n",
      "33.333333333333336\n",
      "Code is Done , Next\n"
     ]
    }
   ],
   "source": [
    "#TRY< EXCEPT nd finally is used in looping condition. \n",
    "\n",
    "l = [2, 0, 0, 3]\n",
    "for i in l:\n",
    "    try:\n",
    "        print(100/i)\n",
    "    except Exception as e:\n",
    "        print(\"Error Occurs\")\n",
    "    finally:\n",
    "        print(\"Code is Done , Next\")\n",
    "         "
   ]
  },
  {
   "cell_type": "code",
   "execution_count": 103,
   "id": "b7589540-5c4c-4759-b6df-f9070beb8da1",
   "metadata": {},
   "outputs": [
    {
     "name": "stdin",
     "output_type": "stream",
     "text": [
      "Enter the number : 0\n"
     ]
    },
    {
     "name": "stdout",
     "output_type": "stream",
     "text": [
      "Zero Visibled\n",
      "Code is Executed \n"
     ]
    }
   ],
   "source": [
    "#Checking while in output.\n",
    "\n",
    "try:\n",
    "    num = int(input(\"Enter the number :\"))\n",
    "    res = 10 / num\n",
    "    print(\"Result:\", res)\n",
    "except ValueError:\n",
    "    print(\"Values Not Matched\")\n",
    "except ZeroDivisionError:\n",
    "    print(\"Zero Visibled\")\n",
    "except NameError:\n",
    "    print(\"Name mismatched\")\n",
    "finally:\n",
    "    print(\"Code is Executed \")\n",
    "    "
   ]
  },
  {
   "cell_type": "code",
   "execution_count": null,
   "id": "283d1eec-db37-42af-8c6f-ce906dc9c55e",
   "metadata": {},
   "outputs": [],
   "source": []
  }
 ],
 "metadata": {
  "kernelspec": {
   "display_name": "Python [conda env:base] *",
   "language": "python",
   "name": "conda-base-py"
  },
  "language_info": {
   "codemirror_mode": {
    "name": "ipython",
    "version": 3
   },
   "file_extension": ".py",
   "mimetype": "text/x-python",
   "name": "python",
   "nbconvert_exporter": "python",
   "pygments_lexer": "ipython3",
   "version": "3.12.7"
  }
 },
 "nbformat": 4,
 "nbformat_minor": 5
}
