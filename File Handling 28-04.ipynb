{
 "cells": [
  {
   "cell_type": "markdown",
   "id": "6d51e1a4-c2d9-4563-85bb-2f95cbb7cd75",
   "metadata": {},
   "source": [
    "# FILE HANDLING"
   ]
  },
  {
   "cell_type": "markdown",
   "id": "9356b0de-67ee-48f7-b54f-975078c55a58",
   "metadata": {},
   "source": [
    "<font size = '5'>\n",
    "\n",
    "#\" r \" - Read - reading the value.Opens a file for reading. error if the file does not exist\n",
    "\n",
    "\n",
    "#\" a \" -  Append - Opens a file for appending, creates the file if it does not exist\n",
    "\n",
    "#\" w \" - Write - Write or edit the file , Opens a file for writing, creates the file if it does not exist\n",
    "\n",
    "\n",
    "#\" x \" - Create - Creates the specified file, returns an error if the file exists.\n",
    "</font>"
   ]
  },
  {
   "cell_type": "code",
   "execution_count": 13,
   "id": "565e2a47-4e21-4289-95d1-43688d2b01e1",
   "metadata": {},
   "outputs": [
    {
     "data": {
      "text/plain": [
       "'\"HI guyzzzzzzzzzzzzzzzz\"'"
      ]
     },
     "execution_count": 13,
     "metadata": {},
     "output_type": "execute_result"
    }
   ],
   "source": [
    "# read the file which is stored with some content.\n",
    "\n",
    "f = open(\"ass.txt\", \"r\")\n",
    "f.read()\n"
   ]
  },
  {
   "cell_type": "code",
   "execution_count": 17,
   "id": "6aca77c9-e5ae-42e2-8ec5-5c1310f2ceb3",
   "metadata": {},
   "outputs": [],
   "source": [
    "# to over-write through coding . \n",
    "\n",
    "f = open(\"ass.txt\", \"w\")\n",
    "f.write (\"Paresh Rawal claims he ‘sipped his urine like beer’ to recover from an injury, gets roasted by the internet\")\n",
    "f.close()"
   ]
  },
  {
   "cell_type": "code",
   "execution_count": 21,
   "id": "fb15f6c5-87af-47b2-baf1-b172b5687933",
   "metadata": {},
   "outputs": [
    {
     "data": {
      "text/plain": [
       "'Paresh Rawal claims he ‘sipped his urine like beer’ to recover from an injury, gets roasted by the internet'"
      ]
     },
     "execution_count": 21,
     "metadata": {},
     "output_type": "execute_result"
    }
   ],
   "source": [
    "f = open(\"ass.txt\", \"r\")\n",
    "f.read()\n"
   ]
  },
  {
   "cell_type": "code",
   "execution_count": 48,
   "id": "b9ef29d0-83b5-404c-9fd3-0e1cb2ead964",
   "metadata": {},
   "outputs": [
    {
     "data": {
      "text/plain": [
       "'GoooD MorniG!'"
      ]
     },
     "execution_count": 48,
     "metadata": {},
     "output_type": "execute_result"
    }
   ],
   "source": [
    "#NEw File is Created and written\n",
    "\n",
    "f = open(\"ass2.txt\", \"r\")\n",
    "f.read()"
   ]
  },
  {
   "cell_type": "code",
   "execution_count": 50,
   "id": "6331fd0e-df2c-4d79-a9c7-9e3e9d998500",
   "metadata": {},
   "outputs": [],
   "source": [
    "f = open(\"ass2.txt\", \"w\")\n",
    "f.write(\"GoooD MorniG!\")\n",
    "f.close()"
   ]
  },
  {
   "cell_type": "code",
   "execution_count": 52,
   "id": "097664fa-80cc-487d-8c64-71b01a552604",
   "metadata": {},
   "outputs": [
    {
     "data": {
      "text/plain": [
       "'GoooD MorniG!'"
      ]
     },
     "execution_count": 52,
     "metadata": {},
     "output_type": "execute_result"
    }
   ],
   "source": [
    "f = open(\"ass2.txt\", \"r\")\n",
    "f.read()\n"
   ]
  },
  {
   "cell_type": "code",
   "execution_count": 57,
   "id": "ea08b3fa-5aa3-4a9d-92b5-111ec0971645",
   "metadata": {},
   "outputs": [],
   "source": [
    "#append the strings in a file through code.\n",
    "\n",
    "f = open(\"ass2.txt\", \"a\")\n",
    "f.write(\" Hi guyssss! \")\n",
    "f.close()\n"
   ]
  },
  {
   "cell_type": "code",
   "execution_count": 59,
   "id": "2c4fd31f-70f6-4fc2-ba29-3cb58db5ef57",
   "metadata": {},
   "outputs": [
    {
     "data": {
      "text/plain": [
       "'GoooD MorniG! Hi guyssss! '"
      ]
     },
     "execution_count": 59,
     "metadata": {},
     "output_type": "execute_result"
    }
   ],
   "source": [
    "f = open(\"ass2.txt\", \"r\")\n",
    "f.read()\n"
   ]
  },
  {
   "cell_type": "code",
   "execution_count": null,
   "id": "0a0836f4-6448-4c35-8fa4-f0831e36d313",
   "metadata": {},
   "outputs": [],
   "source": []
  }
 ],
 "metadata": {
  "kernelspec": {
   "display_name": "Python [conda env:base] *",
   "language": "python",
   "name": "conda-base-py"
  },
  "language_info": {
   "codemirror_mode": {
    "name": "ipython",
    "version": 3
   },
   "file_extension": ".py",
   "mimetype": "text/x-python",
   "name": "python",
   "nbconvert_exporter": "python",
   "pygments_lexer": "ipython3",
   "version": "3.12.7"
  }
 },
 "nbformat": 4,
 "nbformat_minor": 5
}
