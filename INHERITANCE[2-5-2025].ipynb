{
 "cells": [
  {
   "cell_type": "markdown",
   "id": "c4906339-c9d4-4030-810b-db1842a4c9b4",
   "metadata": {},
   "source": [
    "# INHERTANCE"
   ]
  },
  {
   "cell_type": "code",
   "execution_count": null,
   "id": "d6155872-d1cf-4390-b23c-e760e263c1ac",
   "metadata": {},
   "outputs": [],
   "source": [
    "# Creating a parent class for inherit the other classes ."
   ]
  },
  {
   "cell_type": "markdown",
   "id": "e73a43f2-7ab7-4fdc-8e19-956847a06b87",
   "metadata": {},
   "source": [
    "<font size = '5'> \n",
    "\n",
    "1. SINGLE INHERITANCE\n",
    "\n",
    "2. MULTIPLE INHERITANCE\n",
    "\n",
    "3. MULTI-LEVEL INHERITANCE\n",
    "  \n",
    "4. HEIRACHICAL INHERITANCE\n",
    " \n",
    "5. HYBRID INHERITANCE\n",
    "</font>"
   ]
  },
  {
   "cell_type": "markdown",
   "id": "5abc24e2-4f9f-402e-b36a-5649584e664f",
   "metadata": {},
   "source": [
    "# 1.SINGLE INHERITANCE"
   ]
  },
  {
   "cell_type": "code",
   "execution_count": 37,
   "id": "5c974457-bfe8-4110-a21b-a87c08f9de83",
   "metadata": {},
   "outputs": [
    {
     "name": "stdout",
     "output_type": "stream",
     "text": [
      "Hi welcome\n",
      "you all to this world.\n"
     ]
    }
   ],
   "source": [
    "# Can able to access only one class to other class .\n",
    "\n",
    "class Dad:\n",
    "    def de(self):\n",
    "        print(\"Hi welcome\")\n",
    "class Son(Dad):\n",
    "    def dee(self):\n",
    "        print(\"you all to this world.\")\n",
    "\n",
    "f = Son()\n",
    "\n",
    "f.de()\n",
    "f.dee()\n",
    "        "
   ]
  },
  {
   "cell_type": "markdown",
   "id": "3aed35a5-923c-4898-9737-2d9958ccd463",
   "metadata": {},
   "source": [
    "<font size = '5.3'> 1.1 SINGLE INHERITANCE BY USER INPUT</font>"
   ]
  },
  {
   "cell_type": "code",
   "execution_count": 103,
   "id": "f5dc3ebc-2ca9-48dd-a230-566d8e12caf7",
   "metadata": {},
   "outputs": [
    {
     "name": "stdin",
     "output_type": "stream",
     "text": [
      "enter your name: Jaynth\n",
      "enter your age: 21\n"
     ]
    },
    {
     "name": "stdout",
     "output_type": "stream",
     "text": [
      "Jaynth and my age is 21.\n"
     ]
    }
   ],
   "source": [
    "#Parent Class.\n",
    "\n",
    "class dad:\n",
    "    def __init__(self, name, age):\n",
    "        self.name = name\n",
    "        self.age = age\n",
    "\n",
    "    def __str__(self):\n",
    "          return f\"{self.name} and my age is {self.age}.\"\n",
    "\n",
    "#Child Class.\n",
    "class child(dad):\n",
    "    def show(self):\n",
    "        print(f)\n",
    "        \n",
    "name = input(\"enter your name:\")\n",
    "age = int(input(\"enter your age:\"))\n",
    "\n",
    "\n",
    "f = child(name, age)\n",
    "f.show()\n"
   ]
  },
  {
   "cell_type": "markdown",
   "id": "0c675197-5090-40bd-af61-7b756f6f86af",
   "metadata": {},
   "source": [
    "# 2.MULTIPLE INHERITANCE"
   ]
  },
  {
   "cell_type": "code",
   "execution_count": 149,
   "id": "1beb49de-0251-4e52-95f5-64574ac73488",
   "metadata": {},
   "outputs": [
    {
     "name": "stdin",
     "output_type": "stream",
     "text": [
      "enter your name france\n",
      "enter your password 213\n"
     ]
    },
    {
     "name": "stdout",
     "output_type": "stream",
     "text": [
      "My name is FRANCE and my age is 23 from EEE department\n"
     ]
    }
   ],
   "source": [
    "# Can able to access more than one parent class into other class.\n",
    "\n",
    "\n",
    "# 1st PARENT CLASS:\n",
    "\n",
    "class parent1:\n",
    "    def __init__(self,name,age,dept):\n",
    "        self.name=name\n",
    "        self.age=age\n",
    "        self.dept=dept\n",
    "    def details(self):\n",
    "        print(self.name)\n",
    "\n",
    "#1ST SUB CLASS:\n",
    "class child1:\n",
    "    def show1(self):\n",
    "        print(self.age)\n",
    "\n",
    "# 2ND SUB CLASS:\n",
    "class child2:\n",
    "    def show2(self):\n",
    "        print(self.dept)\n",
    "\n",
    "#FINAL CLASS:\n",
    "class child(parent1,child1,child2):\n",
    "    def show(self):\n",
    "        print(f\"My name is {self.name} and my age is {self.age} from {self.dept} department\")\n",
    "\n",
    "\n",
    "name=input(\"enter your name\")\n",
    "password=int(input(\"enter your password\"))\n",
    "\n",
    "\n",
    "if name==\"france\" and password== 213:\n",
    "    p1=child(\"FRANCE\",23,\"EEE\")\n",
    "    p1.show()\n",
    "else:\n",
    "    print(\"wrong password\")\n",
    "    "
   ]
  },
  {
   "cell_type": "markdown",
   "id": "cf289990-c710-4aef-ada2-1229de9505a4",
   "metadata": {},
   "source": [
    "# 3. MULTI-LEVEL INHERITANCE"
   ]
  },
  {
   "cell_type": "code",
   "execution_count": 158,
   "id": "a989425d-f4e7-4962-9b98-be15b7ac9279",
   "metadata": {},
   "outputs": [
    {
     "name": "stdin",
     "output_type": "stream",
     "text": [
      "NAME: Cris\n",
      "AGE: 32\n"
     ]
    },
    {
     "name": "stdout",
     "output_type": "stream",
     "text": [
      "Hi I am Cris and my age is 32\n"
     ]
    }
   ],
   "source": [
    "# Combining one by one class into last class.\n",
    "\n",
    "class Grandparent:\n",
    "    def __init__(ads, name, age):\n",
    "        ads.name = name\n",
    "        ads.age = age\n",
    "\n",
    "class parent(Grandparent):\n",
    "    def __str__(ads):\n",
    "        return f\"Hi I am {ads.name} and my age is {ads.age}\"\n",
    "\n",
    "class child1(parent):\n",
    "    def show(ads):\n",
    "        print(ads)\n",
    "\n",
    "class family(child1):\n",
    "    def display(ads):\n",
    "        ads.show()\n",
    "\n",
    "# User input\n",
    "name = input(\"NAME:\")\n",
    "age  = int(input(\"AGE:\"))\n",
    "\n",
    "# Object creation with arguments\n",
    "af = family(name, age)\n",
    "af.display()\n",
    "        "
   ]
  },
  {
   "cell_type": "markdown",
   "id": "f4510dc4-2398-412d-9d06-7d2ad4940af5",
   "metadata": {},
   "source": [
    "# 4.HIERACHICAL INHERITANCE"
   ]
  },
  {
   "cell_type": "code",
   "execution_count": 186,
   "id": "3b33975d-4275-4ad0-8feb-32259e788cfe",
   "metadata": {},
   "outputs": [
    {
     "name": "stdin",
     "output_type": "stream",
     "text": [
      "enter your name: Heist\n",
      "enter your password: 420\n",
      "NAME: Java\n",
      "place: Chennai\n",
      "DEPT: Computer Science\n"
     ]
    },
    {
     "name": "stdout",
     "output_type": "stream",
     "text": [
      "My name is Java from Chennai and handling Computer Science department\n"
     ]
    }
   ],
   "source": [
    "#Combining only parent classs into other class:\n",
    "\n",
    "\n",
    "#MAIN CLASS:\n",
    "class College:\n",
    "    def __init__(ids, name, place, dept):\n",
    "        ids.name = name\n",
    "        ids.place = place\n",
    "        ids.dept = dept\n",
    "\n",
    "#SUB1 CLASS:\n",
    "class Professor(college):\n",
    "    def show(ids):\n",
    "        print(f\"My name is {ids.name} from {ids.place} and handling {ids.dept} department\")\n",
    "\n",
    "#SUB2 CLASS:\n",
    "class Student(college):\n",
    "    def show(ids):\n",
    "        print(f\"My name is {ids.name} from {ids.place} and studying in {ids.dept} department\")\n",
    "\n",
    "#LOGIN USER INPUT:\n",
    "User_name=input(\"enter your name:\")\n",
    "password=int(input(\"enter your password:\"))\n",
    "\n",
    "#PERSONAL DETAILS INPUT:\n",
    "name  = input(\"NAME:\")\n",
    "place = input(\"place:\")\n",
    "dept  = input(\"DEPT:\")\n",
    "\n",
    "#CHECK LOGIN and SHOW OUTPUT:\n",
    "if User_name==\"Heist\" and password== 420:\n",
    "    pr= Professor(name, place, dept)\n",
    "    pr.show()\n",
    "elif User_name ==\"Travis\" and password == 619:\n",
    "    st = Student(name, place, dept)\n",
    "    st.show()\n",
    "else:\n",
    "    print(\"wrong password\")\n"
   ]
  },
  {
   "cell_type": "markdown",
   "id": "a6f5909b-aed6-44bf-b97a-a4b84b57342e",
   "metadata": {},
   "source": [
    "# 5.HYBRID INHERITANCE"
   ]
  },
  {
   "cell_type": "code",
   "execution_count": 192,
   "id": "de5eefe9-30bd-41ad-ab97-7b7b0dc427ec",
   "metadata": {},
   "outputs": [
    {
     "name": "stdout",
     "output_type": "stream",
     "text": [
      "Buses in Koyambedu occupy seats of 36 and travels from routes M.G.R.BT - KCBT and charges of Rs.60 per person\n"
     ]
    }
   ],
   "source": [
    "# Con able to access any classes into next on any classes without Connectivity.\n",
    "\n",
    "class Bus:\n",
    "    def __init__(self, place, seats):\n",
    "        self.place  = place\n",
    "        self.seats  = seats\n",
    "\n",
    "class Travel:\n",
    "    def __init__(self, routes, price):\n",
    "        self.routes = routes\n",
    "        self.price = price\n",
    "\n",
    "class Terminal(Bus):\n",
    "    def show(self):\n",
    "        return f\"Buses from {self.palce} and occupy seats of {self.seats}\"\n",
    "\n",
    "class City(Terminal, Travel):\n",
    "    def __init__(self, place, seats, routes, price):\n",
    "        Bus.__init__(self, place, seats)\n",
    "        Travel.__init__(self, routes, price)\n",
    "\n",
    "    def show(self):\n",
    "        print(f\"Buses in {self.place} occupy seats of {self.seats} and travels from routes {self.routes} and charges of {self.price} per person\")\n",
    "\n",
    "TN_Bus = City(\"Koyambedu\", 32+4, \"M.G.R.BT - KCBT\", \"Rs.60\")\n",
    "TN_Bus.show()\n"
   ]
  },
  {
   "cell_type": "markdown",
   "id": "470e737a-67b9-440e-be6a-bec77a31720c",
   "metadata": {},
   "source": [
    "<font size = '5.6'> 1.1 BY USER INPUT SAME FORMAT.</font>"
   ]
  },
  {
   "cell_type": "code",
   "execution_count": 203,
   "id": "9323838c-8d3b-44de-8fe0-ab237fd8bc57",
   "metadata": {},
   "outputs": [
    {
     "name": "stdin",
     "output_type": "stream",
     "text": [
      "enter the place: CHENNAI\n",
      "enter the seats: 42\n",
      "enter the routes: Dr.M.G.R BT - KCMBT\n",
      "enter the price: Rs.60\n"
     ]
    },
    {
     "name": "stdout",
     "output_type": "stream",
     "text": [
      "Buses in CHENNAI occupy seats of 42 and travels from routes Dr.M.G.R BT - KCMBT and charges of Rs.60 per person\n"
     ]
    }
   ],
   "source": [
    "class Bus:\n",
    "    def __init__(self, place, seats):\n",
    "        self.place  = place\n",
    "        self.seats  = seats\n",
    "\n",
    "class Travel:\n",
    "    def __init__(self, routes, price):\n",
    "        self.routes = routes\n",
    "        self.price = price\n",
    "\n",
    "class Terminal(Bus):\n",
    "    def show(self):\n",
    "        return f\"Buses from {self.palce} and occupy seats of {self.seats}\"\n",
    "\n",
    "class City(Terminal, Travel):\n",
    "    def __init__(self, place, seats, routes, price):\n",
    "        Bus.__init__(self, place, seats)\n",
    "        Travel.__init__(self, routes, price)\n",
    "\n",
    "    def show(self):\n",
    "        print(f\"Buses in {self.place} occupy seats of {self.seats} and travels from routes {self.routes} and charges of {self.price} per person\")\n",
    "\n",
    "#User Input Format:\n",
    "place  = input(\"enter the place:\")\n",
    "seats  = int(input(\"enter the seats:\"))\n",
    "routes = input(\"enter the routes:\")\n",
    "price  = input(\"enter the price:\")\n",
    "\n",
    "TN_Bus = City(place, seats, routes, price)\n",
    "TN_Bus.show()"
   ]
  },
  {
   "cell_type": "code",
   "execution_count": null,
   "id": "dc9f173a-2feb-4b2c-8c9f-f1ac3720fc08",
   "metadata": {},
   "outputs": [],
   "source": []
  }
 ],
 "metadata": {
  "kernelspec": {
   "display_name": "Python [conda env:base] *",
   "language": "python",
   "name": "conda-base-py"
  },
  "language_info": {
   "codemirror_mode": {
    "name": "ipython",
    "version": 3
   },
   "file_extension": ".py",
   "mimetype": "text/x-python",
   "name": "python",
   "nbconvert_exporter": "python",
   "pygments_lexer": "ipython3",
   "version": "3.12.7"
  }
 },
 "nbformat": 4,
 "nbformat_minor": 5
}
