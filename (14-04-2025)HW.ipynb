{
 "cells": [
  {
   "cell_type": "markdown",
   "id": "43414a6d-2739-414a-91b6-862d5ca1c521",
   "metadata": {},
   "source": [
    "# LIST"
   ]
  },
  {
   "cell_type": "code",
   "execution_count": 3,
   "id": "2fbe9e4d-63d9-43c1-a0b1-288f1f486808",
   "metadata": {},
   "outputs": [],
   "source": [
    "# List are used to store multiple values in a single variable .\n",
    "\n",
    "# It is defined in Squared bracket and it takes duplicate values.\n",
    "\n",
    "# It is mutuable (changing values in a list)"
   ]
  },
  {
   "cell_type": "code",
   "execution_count": 41,
   "id": "8304eeef-ed9a-4d23-91ec-d6dfc98c7d67",
   "metadata": {},
   "outputs": [
    {
     "name": "stdout",
     "output_type": "stream",
     "text": [
      "['Carrot', 'Dish', 'Soup']\n"
     ]
    }
   ],
   "source": [
    "\n",
    "veg = [\"Carrot\", \"Dish\", \"Soup\"]\n",
    "print(veg)\n"
   ]
  },
  {
   "cell_type": "code",
   "execution_count": 53,
   "id": "d8a7b5f6-97d8-4c24-ad35-baa1b4d0f912",
   "metadata": {},
   "outputs": [
    {
     "name": "stdout",
     "output_type": "stream",
     "text": [
      "['Carrot', 'Dish', 'Soup', 'Dish']\n",
      "4\n"
     ]
    },
    {
     "data": {
      "text/plain": [
       "list"
      ]
     },
     "execution_count": 53,
     "metadata": {},
     "output_type": "execute_result"
    }
   ],
   "source": [
    "# allow Duplicates \n",
    "\n",
    "veg = [\"Carrot\", \"Dish\", \"Soup\", \"Dish\"]\n",
    "print(veg)\n",
    "print(len(veg))\n",
    "type(veg)\n"
   ]
  },
  {
   "cell_type": "code",
   "execution_count": 45,
   "id": "88c27bd2-c59a-427e-bbe2-847163d209ad",
   "metadata": {},
   "outputs": [
    {
     "name": "stdout",
     "output_type": "stream",
     "text": [
      "['Apple', 'Mango', 'Banana', 'Watermelon', 'Watermelon']\n",
      "['Apple', 'Mango', 'Banana', 'Guava', 'Watermelon']\n"
     ]
    }
   ],
   "source": [
    "# Change of items in a List \n",
    "\n",
    "fruit = [\"Apple\", \"Mango\", \"Banana\", \"Watermelon\",\"Watermelon\"]\n",
    "print(fruit)\n",
    "fruit[3] = \"Guava\"\n",
    "print(fruit)\n"
   ]
  },
  {
   "cell_type": "code",
   "execution_count": 69,
   "id": "8bdc4af5-0ff6-4f05-898e-cc562d7566b6",
   "metadata": {},
   "outputs": [
    {
     "name": "stdout",
     "output_type": "stream",
     "text": [
      "[2, 4, 6, 8, 10, 13, 15, 15, 17, 19]\n"
     ]
    },
    {
     "data": {
      "text/plain": [
       "[2, 4, 6, 8, 10, 13, 15, 34, 54, 64, 74]"
      ]
     },
     "execution_count": 69,
     "metadata": {},
     "output_type": "execute_result"
    }
   ],
   "source": [
    "# Change of values in a list\n",
    "\n",
    "g = [1, 3, 5, 7, 9, 11, 13, 15, 15, 17, 19]\n",
    "g[:6] = [2, 4, 6, 8, 10]\n",
    "print(g)\n",
    "g[7:] = [34, 54, 64, 74]\n",
    "g\n"
   ]
  },
  {
   "cell_type": "code",
   "execution_count": 27,
   "id": "d84a1ec3-13eb-4bd1-9a57-b9e75015fd37",
   "metadata": {},
   "outputs": [
    {
     "name": "stdout",
     "output_type": "stream",
     "text": [
      "[1, 3, 5, 7, 9, 32, 11, 13, 15, 15, 17, 19]\n"
     ]
    }
   ],
   "source": [
    "# Insert values in a list on a positioned one.\n",
    "\n",
    "g = [1, 3, 5, 7, 9, 11, 13, 15, 15, 17, 19]\n",
    "g.insert (5, 32)\n",
    "print(g)\n"
   ]
  },
  {
   "cell_type": "code",
   "execution_count": 29,
   "id": "fcdca9b4-a1fc-4a4f-9979-e5ec6c13c001",
   "metadata": {},
   "outputs": [
    {
     "name": "stdout",
     "output_type": "stream",
     "text": [
      "[1, 3, 5, 7, 9, 32, 11, 13, 15, 15, 17, 19, 43]\n"
     ]
    }
   ],
   "source": [
    "# Adding values in a list at end.\n",
    "\n",
    "g.append(43)\n",
    "print(g)\n"
   ]
  },
  {
   "cell_type": "code",
   "execution_count": 37,
   "id": "da06ba39-bbc7-41de-bacf-4dede2a45140",
   "metadata": {},
   "outputs": [
    {
     "name": "stdout",
     "output_type": "stream",
     "text": [
      "[1, 5, 9, 32, 11, 13, 15, 15, 17, 19, 43]\n"
     ]
    }
   ],
   "source": [
    "#Removing values in a list.\n",
    "\n",
    "g.remove(7)\n",
    "print(g)\n"
   ]
  },
  {
   "cell_type": "code",
   "execution_count": 88,
   "id": "9762fea3-f8c0-451f-99bc-1b562e6d9a8d",
   "metadata": {},
   "outputs": [
    {
     "name": "stdout",
     "output_type": "stream",
     "text": [
      "[1, 5, 13, 15, 15, 17, 19, 43]\n"
     ]
    },
    {
     "data": {
      "text/plain": [
       "[1, 5, 13, 15, 15, 17, 19, 43, 23]"
      ]
     },
     "execution_count": 88,
     "metadata": {},
     "output_type": "execute_result"
    }
   ],
   "source": [
    "#Removing values from the indexing value in a list.\n",
    "\n",
    "g.pop(2)\n",
    "print(g)\n",
    "\n",
    "g.append(23)\n",
    "g\n"
   ]
  },
  {
   "cell_type": "code",
   "execution_count": 92,
   "id": "b8f5a840-6f6d-44d5-979f-bfdbc23e19d4",
   "metadata": {},
   "outputs": [
    {
     "name": "stdout",
     "output_type": "stream",
     "text": [
      "13\n",
      "15\n",
      "15\n",
      "17\n",
      "19\n"
     ]
    }
   ],
   "source": [
    "# seperating the values from one range to other range in a list.\n",
    "\n",
    "for values in g:\n",
    "    if values>5 and values<=20:\n",
    "        print(values)\n",
    "        "
   ]
  },
  {
   "cell_type": "code",
   "execution_count": 94,
   "id": "a307351d-230c-4fbe-ac0a-68c646b594c5",
   "metadata": {},
   "outputs": [
    {
     "name": "stdout",
     "output_type": "stream",
     "text": [
      "[23, 43, 545, 656, 776, 787, 12, 11, 1, 2, 5, 10, 20, 30, 40, 50, 60, 70, 80, 90, 100]\n"
     ]
    }
   ],
   "source": [
    "# Adding two values from a list in a single variable on a list. \n",
    "\n",
    "group1 = [23, 43, 545, 656, 776, 787, 12, 11, 1, 2, 5]\n",
    "group2 = [10, 20, 30, 40, 50, 60, 70, 80, 90, 100]\n",
    "group1.extend(group2)\n",
    "print(group1)\n"
   ]
  },
  {
   "cell_type": "code",
   "execution_count": null,
   "id": "a811dd95-e3e9-476b-8aab-263142d3cc08",
   "metadata": {},
   "outputs": [],
   "source": []
  }
 ],
 "metadata": {
  "kernelspec": {
   "display_name": "Python [conda env:base] *",
   "language": "python",
   "name": "conda-base-py"
  },
  "language_info": {
   "codemirror_mode": {
    "name": "ipython",
    "version": 3
   },
   "file_extension": ".py",
   "mimetype": "text/x-python",
   "name": "python",
   "nbconvert_exporter": "python",
   "pygments_lexer": "ipython3",
   "version": "3.12.7"
  }
 },
 "nbformat": 4,
 "nbformat_minor": 5
}
