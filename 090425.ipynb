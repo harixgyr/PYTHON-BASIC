{
 "cells": [
  {
   "cell_type": "markdown",
   "id": "a4260a89-05c3-4dca-b1a8-63102cd3d2fe",
   "metadata": {},
   "source": [
    "# OPERATORS"
   ]
  },
  {
   "cell_type": "markdown",
   "id": "6d594c2e-0a23-4bc0-9beb-788f62dd3968",
   "metadata": {},
   "source": [
    "<font size = '5'>ARITHMETIC OPERATORS</font>"
   ]
  },
  {
   "cell_type": "code",
   "execution_count": 12,
   "id": "692fbc4e-4f02-4319-8cca-58b292e5c872",
   "metadata": {},
   "outputs": [
    {
     "name": "stdout",
     "output_type": "stream",
     "text": [
      "16\n"
     ]
    }
   ],
   "source": [
    "#Used to perform as mathematical operations \n",
    "\n",
    "#ADD\n",
    "\n",
    "x=7\n",
    "y=9\n",
    "print(x+y)\n"
   ]
  },
  {
   "cell_type": "code",
   "execution_count": 30,
   "id": "07c1d440-fa56-4da7-a7a7-af6a0e279c78",
   "metadata": {},
   "outputs": [
    {
     "name": "stdout",
     "output_type": "stream",
     "text": [
      "(14-1j)\n"
     ]
    }
   ],
   "source": [
    "#SUB\n",
    "\n",
    "h=26+2j\n",
    "i=3j+12\n",
    "print(h-i)\n"
   ]
  },
  {
   "cell_type": "code",
   "execution_count": 44,
   "id": "89f91e75-47f9-4b4e-abe7-0b3f542abe72",
   "metadata": {},
   "outputs": [
    {
     "name": "stdout",
     "output_type": "stream",
     "text": [
      "3.1\n"
     ]
    }
   ],
   "source": [
    "#DIV - [Quotient takes place]\n",
    "\n",
    "a=21.7\n",
    "b=7.0\n",
    "print(a/b)\n"
   ]
  },
  {
   "cell_type": "code",
   "execution_count": 50,
   "id": "81e01428-8cb0-424b-ad74-232e4d5608b5",
   "metadata": {},
   "outputs": [
    {
     "name": "stdout",
     "output_type": "stream",
     "text": [
      "924\n"
     ]
    }
   ],
   "source": [
    "#Multiply\n",
    "\n",
    "g=231\n",
    "h=4\n",
    "print(g*h)\n"
   ]
  },
  {
   "cell_type": "code",
   "execution_count": 54,
   "id": "43c4a8bb-579d-4192-bd3c-c426e0be27b7",
   "metadata": {},
   "outputs": [
    {
     "name": "stdout",
     "output_type": "stream",
     "text": [
      "144\n"
     ]
    }
   ],
   "source": [
    "#Poweroff\n",
    "\n",
    "b=12\n",
    "c=2\n",
    "print(b**c)"
   ]
  },
  {
   "cell_type": "code",
   "execution_count": 77,
   "id": "dc62f315-4e7c-4ae7-9d37-97d19036e691",
   "metadata": {},
   "outputs": [
    {
     "name": "stdout",
     "output_type": "stream",
     "text": [
      "4\n"
     ]
    }
   ],
   "source": [
    "#ForeDivison [Decimal Exists]\n",
    "\n",
    "x=20\n",
    "y=5\n",
    "print(x//y)"
   ]
  },
  {
   "cell_type": "code",
   "execution_count": 79,
   "id": "00ada970-58da-4d7d-9dc0-e4d4037d7a5d",
   "metadata": {},
   "outputs": [
    {
     "name": "stdout",
     "output_type": "stream",
     "text": [
      "16\n"
     ]
    }
   ],
   "source": [
    "#Percentage or Modlus [Remainder takes place]\n",
    "\n",
    "a=10000\n",
    "b=52\n",
    "print(a%b)\n"
   ]
  },
  {
   "cell_type": "code",
   "execution_count": 113,
   "id": "95c0ef66-16b6-4073-a26a-7a009b8a1ea7",
   "metadata": {},
   "outputs": [
    {
     "name": "stdin",
     "output_type": "stream",
     "text": [
      "enter the num 43\n",
      "enter your num 4\n"
     ]
    },
    {
     "name": "stdout",
     "output_type": "stream",
     "text": [
      "47 172\n"
     ]
    }
   ],
   "source": [
    "#operators assigned with the input()\n",
    "\n",
    "a=int(input(\"enter the num\"))\n",
    "b=int(input(\"enter your num\"))\n",
    "out=a+b\n",
    "put=a*b\n",
    "print(out,put)\n"
   ]
  },
  {
   "cell_type": "code",
   "execution_count": null,
   "id": "f04983fb-1214-4525-900e-8b0c7c3fc647",
   "metadata": {},
   "outputs": [],
   "source": []
  },
  {
   "cell_type": "markdown",
   "id": "6a8e90fb-a192-4a2f-b0a4-7bb7c134373c",
   "metadata": {},
   "source": [
    "<font size ='5'>ASSIGNMENT OPERATOR</font>"
   ]
  },
  {
   "cell_type": "code",
   "execution_count": 61,
   "id": "fd5a3696-5f4e-4682-9e57-5609f0760e87",
   "metadata": {},
   "outputs": [
    {
     "name": "stdout",
     "output_type": "stream",
     "text": [
      "5\n"
     ]
    }
   ],
   "source": [
    "#deafult values to be edited\n",
    "\n",
    "a=4\n",
    "a+=1\n",
    "print(a)\n"
   ]
  },
  {
   "cell_type": "code",
   "execution_count": 63,
   "id": "b1e0dde3-7e1f-4819-bddb-acc4dcfce889",
   "metadata": {},
   "outputs": [
    {
     "name": "stdout",
     "output_type": "stream",
     "text": [
      "3\n"
     ]
    }
   ],
   "source": [
    "#sub\n",
    "\n",
    "b=4\n",
    "b-=1\n",
    "print(b)\n"
   ]
  },
  {
   "cell_type": "code",
   "execution_count": 65,
   "id": "8887ace0-9d92-4ff3-9756-cb33b36c16ae",
   "metadata": {},
   "outputs": [
    {
     "name": "stdout",
     "output_type": "stream",
     "text": [
      "96\n"
     ]
    }
   ],
   "source": [
    "#Multiply\n",
    "\n",
    "c=32\n",
    "c*=3\n",
    "print(c)\n"
   ]
  },
  {
   "cell_type": "code",
   "execution_count": 81,
   "id": "c2700e34-4ae0-472d-9db9-ba4e97e18120",
   "metadata": {},
   "outputs": [
    {
     "name": "stdout",
     "output_type": "stream",
     "text": [
      "3.0\n"
     ]
    }
   ],
   "source": [
    "#Divide\n",
    "\n",
    "d=21\n",
    "d/=7\n",
    "print(d)\n"
   ]
  },
  {
   "cell_type": "code",
   "execution_count": 117,
   "id": "a99d5fb7-61fc-4339-9fbf-c14a7c010a69",
   "metadata": {},
   "outputs": [
    {
     "name": "stdin",
     "output_type": "stream",
     "text": [
      "Enter the num: 43\n",
      "Enter the num: 12\n"
     ]
    },
    {
     "name": "stdout",
     "output_type": "stream",
     "text": [
      "46 7\n"
     ]
    }
   ],
   "source": [
    "#assigned with input()\n",
    "\n",
    "v=int(input(\"Enter the num:\"))\n",
    "v1=int(input(\"Enter the num:\"))\n",
    "v+=3\n",
    "v1-=5\n",
    "print(v, v1)\n"
   ]
  },
  {
   "cell_type": "code",
   "execution_count": null,
   "id": "d6973b17-fc85-494e-92ca-a825befc7b2c",
   "metadata": {},
   "outputs": [],
   "source": []
  },
  {
   "cell_type": "markdown",
   "id": "5414464b-4d97-4366-8885-95f68b536205",
   "metadata": {},
   "source": [
    "<font size ='5'>COMPARISON OPERATOR</font>"
   ]
  },
  {
   "cell_type": "code",
   "execution_count": 128,
   "id": "8f347e67-f75c-4258-85ed-3eef23c25367",
   "metadata": {},
   "outputs": [
    {
     "name": "stdout",
     "output_type": "stream",
     "text": [
      "False\n"
     ]
    }
   ],
   "source": [
    "#equal to \n",
    "\n",
    "a=4550\n",
    "b=10\n",
    "print(a==b)\n"
   ]
  },
  {
   "cell_type": "code",
   "execution_count": 130,
   "id": "9abb2bd4-2228-4acc-8f24-51335091e845",
   "metadata": {},
   "outputs": [
    {
     "name": "stdout",
     "output_type": "stream",
     "text": [
      "True\n"
     ]
    }
   ],
   "source": [
    "#Grreater than \n",
    "\n",
    "print(a>b)"
   ]
  },
  {
   "cell_type": "code",
   "execution_count": 132,
   "id": "f24d7a59-5b50-4829-97e7-f7d419d50e82",
   "metadata": {},
   "outputs": [
    {
     "name": "stdout",
     "output_type": "stream",
     "text": [
      "False\n"
     ]
    }
   ],
   "source": [
    "#Lower than\n",
    "\n",
    "print(a<b)"
   ]
  },
  {
   "cell_type": "code",
   "execution_count": 178,
   "id": "2bb6c808-2cf3-44ef-983a-67895a318156",
   "metadata": {},
   "outputs": [
    {
     "name": "stdout",
     "output_type": "stream",
     "text": [
      "True\n"
     ]
    }
   ],
   "source": [
    "#Not equalto\n",
    "\n",
    "print(a!=b)\n"
   ]
  },
  {
   "cell_type": "code",
   "execution_count": 226,
   "id": "857b2053-02d3-4680-a0b5-a1d20c399be0",
   "metadata": {},
   "outputs": [
    {
     "name": "stdout",
     "output_type": "stream",
     "text": [
      "True\n"
     ]
    }
   ],
   "source": [
    "#Greater than equalto\n",
    "\n",
    "print(a>=b)\n"
   ]
  },
  {
   "cell_type": "code",
   "execution_count": 230,
   "id": "fdc42331-6d2a-4047-862e-3588a0030a7b",
   "metadata": {},
   "outputs": [
    {
     "name": "stdout",
     "output_type": "stream",
     "text": [
      "False\n"
     ]
    }
   ],
   "source": [
    "#Lower than equalto\n",
    "\n",
    "print(a<=b)\n"
   ]
  },
  {
   "cell_type": "code",
   "execution_count": null,
   "id": "d4e4838f-0d07-4124-9b1b-71adf5120cd6",
   "metadata": {},
   "outputs": [],
   "source": []
  },
  {
   "cell_type": "markdown",
   "id": "af94324e-a03d-4fd3-a037-cd7613e073d9",
   "metadata": {},
   "source": [
    "<font size ='5'>LOGICAL OPERATOR</font>"
   ]
  },
  {
   "cell_type": "code",
   "execution_count": 130,
   "id": "d3aa77be-4359-4ed0-a677-7ceb5bf1ee14",
   "metadata": {},
   "outputs": [
    {
     "name": "stdout",
     "output_type": "stream",
     "text": [
      "False\n",
      "True\n",
      "False\n"
     ]
    }
   ],
   "source": [
    "#divides and checks if something is true or false\n",
    "\n",
    "a=5 \n",
    "\n",
    "#AND\n",
    "print(a<10 & a>7)            # False → both condt is not true.\n",
    "\n",
    "#OR\n",
    "print(a<10 | a>7)            # True → One condt is true; Other condt is false.\n",
    "\n",
    "#NOT\n",
    "print(not(a<10 | a>7))      # False → flips true where one condt is true.    \n"
   ]
  },
  {
   "cell_type": "code",
   "execution_count": null,
   "id": "fc57679e-ef61-4d72-b829-a536ff072eb2",
   "metadata": {},
   "outputs": [],
   "source": []
  },
  {
   "cell_type": "markdown",
   "id": "62fec685-eb6f-4902-a048-5e92b0a28484",
   "metadata": {},
   "source": [
    "<font size ='5'>IDENTITY OPERATOR</font>"
   ]
  },
  {
   "cell_type": "code",
   "execution_count": 134,
   "id": "088e4b9c-8b41-48ae-8363-97f29b9f2756",
   "metadata": {},
   "outputs": [
    {
     "name": "stdout",
     "output_type": "stream",
     "text": [
      "True\n",
      "False\n",
      "True\n"
     ]
    }
   ],
   "source": [
    "# 'checks if both two variables are to same object; not if they have same value'\n",
    "\n",
    "#IS \n",
    "a = [1, 2, 3]\n",
    "b = a\n",
    "c = [1, 2, 3]\n",
    "\n",
    "print(a is b)      # True  → same object\n",
    "print(a is c)      # False → same value, but different objects\n",
    "print(a == c)      # True  → values are equal\n"
   ]
  },
  {
   "cell_type": "code",
   "execution_count": 136,
   "id": "ad930217-e21a-43e3-b371-4b0eba377255",
   "metadata": {},
   "outputs": [
    {
     "name": "stdout",
     "output_type": "stream",
     "text": [
      "True\n",
      "False\n",
      "True\n"
     ]
    }
   ],
   "source": [
    "#IS NOT\n",
    "\n",
    "x=[1123]\n",
    "y=[1123]\n",
    "v=y\n",
    "v=x\n",
    "\n",
    "print(x is not y)   # True  → same value, but different objects\n",
    "print(v is not x)   # False → same object.\n",
    "print(v == y)       # True  → values are equal."
   ]
  },
  {
   "cell_type": "code",
   "execution_count": null,
   "id": "53237423-9eb9-4aa8-90fd-be27cf0fc49e",
   "metadata": {},
   "outputs": [],
   "source": []
  },
  {
   "cell_type": "markdown",
   "id": "6b04a1fa-b8fa-48f9-b4c1-3bc15f8b1fa6",
   "metadata": {},
   "source": [
    "<font size ='5'>MEMBERSHIP OPERATOR</font>"
   ]
  },
  {
   "cell_type": "code",
   "execution_count": 162,
   "id": "02d30fda-0979-4a3d-8ae2-8fd0b2d74572",
   "metadata": {},
   "outputs": [
    {
     "name": "stdout",
     "output_type": "stream",
     "text": [
      "False\n",
      "True\n"
     ]
    }
   ],
   "source": [
    "# Checks if a value exists inside a sequence.\n",
    "\n",
    "# IN                     \n",
    "\n",
    "a = [\"DAX\"]\n",
    "b = [\"DAXS\"]\n",
    "\n",
    "print( \"DAS\" in b)     # False → Value is not present.\n",
    "print(\"DAX\" in a)      # True  → Value is Present. "
   ]
  },
  {
   "cell_type": "code",
   "execution_count": 164,
   "id": "3535c132-ad0a-4a4e-a50a-8d12de6ca85d",
   "metadata": {},
   "outputs": [
    {
     "name": "stdout",
     "output_type": "stream",
     "text": [
      "False\n",
      "True\n"
     ]
    }
   ],
   "source": [
    "#IS NOT\n",
    "                               \n",
    "a = [\"43,22\"] \n",
    "print(\"43,22\"  not in a)           # False  → Value is Present. \n",
    "print(\"43,22,12\"not in a)          # True   → Value is not present. "
   ]
  },
  {
   "cell_type": "code",
   "execution_count": null,
   "id": "d587c6ba-4d1f-491c-a4ca-1f091128e6f3",
   "metadata": {},
   "outputs": [],
   "source": []
  }
 ],
 "metadata": {
  "kernelspec": {
   "display_name": "Python [conda env:base] *",
   "language": "python",
   "name": "conda-base-py"
  },
  "language_info": {
   "codemirror_mode": {
    "name": "ipython",
    "version": 3
   },
   "file_extension": ".py",
   "mimetype": "text/x-python",
   "name": "python",
   "nbconvert_exporter": "python",
   "pygments_lexer": "ipython3",
   "version": "3.12.7"
  }
 },
 "nbformat": 4,
 "nbformat_minor": 5
}
