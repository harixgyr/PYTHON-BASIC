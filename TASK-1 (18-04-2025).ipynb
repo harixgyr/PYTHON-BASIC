{
 "cells": [
  {
   "cell_type": "markdown",
   "id": "b631e0cf-0920-4066-a1ee-7ab8d8a53b5e",
   "metadata": {},
   "source": [
    "# LIST"
   ]
  },
  {
   "cell_type": "code",
   "execution_count": null,
   "id": "1d8d4a6a-1ba5-49e1-88b0-6d1b8844b8c2",
   "metadata": {},
   "outputs": [],
   "source": [
    "#DATASET l=[1,22,3,44,55,6,11,1200]"
   ]
  },
  {
   "cell_type": "code",
   "execution_count": 42,
   "id": "772072c6-2d12-49b4-8435-69036f7028b8",
   "metadata": {},
   "outputs": [
    {
     "name": "stdout",
     "output_type": "stream",
     "text": [
      "[1, 22, 3, 44, 55, 6, 4, 11, 1200]\n"
     ]
    }
   ],
   "source": [
    "#1. Add the number `4` at the 6th index of the list `l`.  \n",
    "\n",
    "l=[1,22,3,44,55,6,11,1200]\n",
    "l.insert(6, 4)\n",
    "print(l)\n"
   ]
  },
  {
   "cell_type": "code",
   "execution_count": 44,
   "id": "62c0d0d6-8b70-46f2-a5d9-4f3feffc3d78",
   "metadata": {},
   "outputs": [
    {
     "name": "stdout",
     "output_type": "stream",
     "text": [
      "[1, 22, 3, 55, 6, 4, 11, 1200]\n"
     ]
    }
   ],
   "source": [
    "#2. Remove the value `44` from the list `l`.  \n",
    "\n",
    "l.remove(44)\n",
    "print(l)\n"
   ]
  },
  {
   "cell_type": "code",
   "execution_count": 46,
   "id": "fdaebad6-61ed-4472-a34d-c0e3f60ca68f",
   "metadata": {},
   "outputs": [
    {
     "name": "stdout",
     "output_type": "stream",
     "text": [
      "[1, 22, 3, 55, 6, 4, 11, 1200, 88]\n"
     ]
    }
   ],
   "source": [
    "#3. Append the number `88` to the end of the list `l`.  \n",
    "\n",
    "l.append(88)\n",
    "print(l)\n"
   ]
  },
  {
   "cell_type": "code",
   "execution_count": 48,
   "id": "8822fc8b-a9d8-4b42-b626-27a72170ff61",
   "metadata": {},
   "outputs": [
    {
     "name": "stdout",
     "output_type": "stream",
     "text": [
      "[1, 22, 55, 6, 4, 11, 1200, 88]\n"
     ]
    }
   ],
   "source": [
    "#4. Remove the value at the 2nd index of the list `l`.  \n",
    "\n",
    "l.pop(2)\n",
    "print(l)\n"
   ]
  },
  {
   "cell_type": "code",
   "execution_count": 50,
   "id": "b79b0b5c-eec9-44f5-866c-333c2391168c",
   "metadata": {},
   "outputs": [
    {
     "name": "stdout",
     "output_type": "stream",
     "text": [
      "[1, 22, 55, 6, 4, 11, 1200, 88, 1, 2, 3, 546]\n"
     ]
    }
   ],
   "source": [
    "#5. Merge the list `m = [1, 2, 3, 546]` into the list `l`.\n",
    "\n",
    "m = [1, 2, 3, 546]\n",
    "l.extend(m)\n",
    "print(l)\n"
   ]
  },
  {
   "cell_type": "markdown",
   "id": "53ce19c8-f53e-4936-94fb-429ad2ca92d4",
   "metadata": {},
   "source": [
    "# STRING"
   ]
  },
  {
   "cell_type": "code",
   "execution_count": 72,
   "id": "77013a9a-4a57-40f9-8426-7b355435e5e9",
   "metadata": {},
   "outputs": [
    {
     "name": "stdout",
     "output_type": "stream",
     "text": [
      "HelloWPythonorld\n"
     ]
    }
   ],
   "source": [
    "#1. Insert the substring `\"Python\"` at the 6th index of the string .  \n",
    "\n",
    "s = \"HelloWorld\"\n",
    "s1 = s[:6] + \"Python\" + s[6:]\n",
    "print(s1)\n"
   ]
  },
  {
   "cell_type": "code",
   "execution_count": 86,
   "id": "1285833b-7fd5-4d5c-9846-a9f5227810c9",
   "metadata": {},
   "outputs": [
    {
     "name": "stdout",
     "output_type": "stream",
     "text": [
      "Hello\n"
     ]
    }
   ],
   "source": [
    "#2. Remove the substring `\"World\"` from the string `s`.  \n",
    "\n",
    "s = s.replace(\"World\", \"\")\n",
    "print(s)\n"
   ]
  },
  {
   "cell_type": "code",
   "execution_count": 90,
   "id": "42645227-8418-4448-b923-eb99470c446a",
   "metadata": {},
   "outputs": [
    {
     "name": "stdout",
     "output_type": "stream",
     "text": [
      "Hello2024\n"
     ]
    }
   ],
   "source": [
    "#3. Append the substring `\"2024\"` to the end of the string `s`.  \n",
    "\n",
    "\n",
    "s3 = s + \"2024\"\n",
    "print(s3)\n"
   ]
  },
  {
   "cell_type": "code",
   "execution_count": 104,
   "id": "588af2f6-e212-4af4-8bcb-a767183b95d6",
   "metadata": {},
   "outputs": [
    {
     "name": "stdout",
     "output_type": "stream",
     "text": [
      "Helo2024\n"
     ]
    }
   ],
   "source": [
    "#4. Remove the character at the 2nd index of the string `s`.  \n",
    "\n",
    "\n",
    "s4 = s[:2] + s[3:]\n",
    "print(s4)\n"
   ]
  },
  {
   "cell_type": "code",
   "execution_count": 106,
   "id": "fd48f13f-7be4-4751-acf5-03a10569a5d9",
   "metadata": {},
   "outputs": [
    {
     "name": "stdout",
     "output_type": "stream",
     "text": [
      "Helo2024Programming\n"
     ]
    }
   ],
   "source": [
    "#5. Concatenate the string `t = \"Programming\"` to the string `s`.\n",
    "\n",
    "t = \"Programming\"\n",
    "s5 = s4 + t\n",
    "print(s5)"
   ]
  },
  {
   "cell_type": "code",
   "execution_count": 110,
   "id": "5a2c6138-5cb8-4d01-bcd7-6ebb59c42729",
   "metadata": {},
   "outputs": [
    {
     "name": "stdout",
     "output_type": "stream",
     "text": [
      "Hello2024Programming\n"
     ]
    }
   ],
   "source": [
    " s6 = s + t\n",
    "print(s6)\n"
   ]
  },
  {
   "cell_type": "code",
   "execution_count": 122,
   "id": "4a32bf60-be22-499e-9713-a5a437b583d5",
   "metadata": {},
   "outputs": [
    {
     "name": "stdout",
     "output_type": "stream",
     "text": [
      "False\n"
     ]
    }
   ],
   "source": [
    "#6.Write a function to check if a given string is a palindrome (reads the same forwards and backwards).\n",
    "\n",
    "m = \"Basic\"\n",
    "print(is_palindrome(m))\n"
   ]
  },
  {
   "cell_type": "code",
   "execution_count": 134,
   "id": "9b807f8e-d051-40f7-8479-432326f61702",
   "metadata": {},
   "outputs": [
    {
     "name": "stdout",
     "output_type": "stream",
     "text": [
      "True\n"
     ]
    }
   ],
   "source": [
    "#7.Check if String is Anagram . Write a function to check if two strings are anagrams of each other (contain the same characters in any order).\n",
    "\n",
    "\n",
    "str1 = \"evil\"\n",
    "str2 = \"vile\"\n",
    "print(are_anagrams(str1, str2))\n"
   ]
  },
  {
   "cell_type": "code",
   "execution_count": 140,
   "id": "9bb3e9a1-7ee1-4968-9f36-274b9e1e0600",
   "metadata": {},
   "outputs": [
    {
     "name": "stdout",
     "output_type": "stream",
     "text": [
      "False\n"
     ]
    }
   ],
   "source": [
    "str1 = \"Hello\"\n",
    "str2 = \"World\"\n",
    "print(are_anagrams(str1, str2))"
   ]
  },
  {
   "cell_type": "code",
   "execution_count": 144,
   "id": "d0adce6e-e61f-4a1c-b1d3-81b53be0d8e1",
   "metadata": {},
   "outputs": [
    {
     "name": "stdout",
     "output_type": "stream",
     "text": [
      "Hello World\n"
     ]
    }
   ],
   "source": [
    "#8.Capitalize the Letter.\n",
    "\n",
    "d = \"hello world\"\n",
    "d= d.title()\n",
    "print(d)\n"
   ]
  },
  {
   "cell_type": "code",
   "execution_count": 146,
   "id": "3187195c-d2af-4b45-8980-aa94f2f2bc02",
   "metadata": {},
   "outputs": [
    {
     "name": "stdout",
     "output_type": "stream",
     "text": [
      "hELLO wORLD\n"
     ]
    }
   ],
   "source": [
    "#9. Swap Casing Letters.\n",
    "\n",
    "j = \"Hello World\"\n",
    "j = j.swapcase()\n",
    "print(j)\n"
   ]
  },
  {
   "cell_type": "code",
   "execution_count": null,
   "id": "3ab0d1cf-31d1-4ad2-9e93-de98054ed934",
   "metadata": {},
   "outputs": [],
   "source": []
  }
 ],
 "metadata": {
  "kernelspec": {
   "display_name": "Python [conda env:base] *",
   "language": "python",
   "name": "conda-base-py"
  },
  "language_info": {
   "codemirror_mode": {
    "name": "ipython",
    "version": 3
   },
   "file_extension": ".py",
   "mimetype": "text/x-python",
   "name": "python",
   "nbconvert_exporter": "python",
   "pygments_lexer": "ipython3",
   "version": "3.12.7"
  }
 },
 "nbformat": 4,
 "nbformat_minor": 5
}
