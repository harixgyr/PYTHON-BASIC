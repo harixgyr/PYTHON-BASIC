{
 "cells": [
  {
   "cell_type": "markdown",
   "id": "8e04b10d-7ce2-4cf6-8da1-8ec5112911a9",
   "metadata": {},
   "source": [
    "# DICTIONARIES"
   ]
  },
  {
   "cell_type": "code",
   "execution_count": 73,
   "id": "981179a4-d868-47f3-ab62-279bcb9bd87b",
   "metadata": {},
   "outputs": [
    {
     "data": {
      "text/plain": [
       "'Models'"
      ]
     },
     "execution_count": 73,
     "metadata": {},
     "output_type": "execute_result"
    }
   ],
   "source": [
    "#Dictionary is formed only with keys and values. \n",
    "#theY are written in curly braces.\n",
    "\n",
    "mydict = {\"CARS\" :\"Models\", \"brand\" : \"Ford\", \"year\" : 1980}\n",
    "mydict[\"CARS\"]\n"
   ]
  },
  {
   "cell_type": "code",
   "execution_count": 75,
   "id": "eb76f336-7f11-4a14-b720-a303257ad360",
   "metadata": {},
   "outputs": [
    {
     "data": {
      "text/plain": [
       "{'std1': 43, 'std2': 36, 'std3': 66, 'std4': 80, 'std5': 84}"
      ]
     },
     "execution_count": 75,
     "metadata": {},
     "output_type": "execute_result"
    }
   ],
   "source": [
    "#Dict can be edited .\n",
    "\n",
    "RESULTS = {\"std1\" : 76, \"std2\" : 36, \"std3\" : 66, \"std4\" : 80, \"std5\" : 84}\n",
    "RESULTS [\"std1\"]= 43\n",
    "RESULTS\n"
   ]
  },
  {
   "cell_type": "code",
   "execution_count": 77,
   "id": "a6202be7-39ad-4105-9a06-da17e6be11da",
   "metadata": {},
   "outputs": [
    {
     "name": "stdout",
     "output_type": "stream",
     "text": [
      "5\n"
     ]
    }
   ],
   "source": [
    "#Length of DICTIONARY.\n",
    "\n",
    "print(len(RESULTS))\n"
   ]
  },
  {
   "cell_type": "code",
   "execution_count": 79,
   "id": "b3c2b5f8-443b-4868-8dbf-9977e1f38983",
   "metadata": {},
   "outputs": [
    {
     "name": "stdout",
     "output_type": "stream",
     "text": [
      "Mustang\n",
      "Mustang\n"
     ]
    }
   ],
   "source": [
    "mydict = {\n",
    "  \"brand\": \"Ford\",\n",
    "  \"model\": \"Mustang\",\n",
    "  \"year\": 1964\n",
    "}\n",
    "x = mydict[\"model\"]\n",
    "print (mydict[\"model\"])\n",
    "print(x)\n"
   ]
  },
  {
   "cell_type": "code",
   "execution_count": 81,
   "id": "d632d903-96c9-4e15-89c3-1c5fbbfcfe7d",
   "metadata": {},
   "outputs": [
    {
     "data": {
      "text/plain": [
       "43"
      ]
     },
     "execution_count": 81,
     "metadata": {},
     "output_type": "execute_result"
    }
   ],
   "source": [
    "# geting values by key.\n",
    "\n",
    "x = RESULTS.get(\"std1\")\n",
    "x\n"
   ]
  },
  {
   "cell_type": "code",
   "execution_count": 83,
   "id": "ea53b05b-5a4d-4b3d-8eab-b1803e8c596d",
   "metadata": {},
   "outputs": [
    {
     "data": {
      "text/plain": [
       "{'brand': 'Ford', 'model': 'Mustang', 'year': 1964, 'CC': 1900}"
      ]
     },
     "execution_count": 83,
     "metadata": {},
     "output_type": "execute_result"
    }
   ],
   "source": [
    "#adding values in a dict.\n",
    "\n",
    "mydict [\"CC\"]= 1900\n",
    "mydict\n"
   ]
  },
  {
   "cell_type": "code",
   "execution_count": 85,
   "id": "9b203ac8-6cee-4ce0-ad42-6280f11b6716",
   "metadata": {},
   "outputs": [
    {
     "data": {
      "text/plain": [
       "{'brand': 'Ford', 'model': 'Mustang', 'year': 1800, 'CC': 1900}"
      ]
     },
     "execution_count": 85,
     "metadata": {},
     "output_type": "execute_result"
    }
   ],
   "source": [
    "#Update values in a dict.\n",
    "\n",
    "mydict.update({\"year\" : 1800 })\n",
    "mydict\n"
   ]
  },
  {
   "cell_type": "code",
   "execution_count": 105,
   "id": "7d9a34b3-7879-4374-81fe-d25ece9c197c",
   "metadata": {},
   "outputs": [
    {
     "data": {
      "text/plain": [
       "{'brand': 'Ford'}"
      ]
     },
     "execution_count": 105,
     "metadata": {},
     "output_type": "execute_result"
    }
   ],
   "source": [
    "#Removing selected values in a dict.\n",
    "\n",
    "mydict.pop(\"CC\")\n",
    "mydict\n"
   ]
  },
  {
   "cell_type": "code",
   "execution_count": 119,
   "id": "603411b2-664b-4848-b98d-e98ab6496bc4",
   "metadata": {},
   "outputs": [
    {
     "name": "stdout",
     "output_type": "stream",
     "text": [
      "{'Brand': 'Toyota', 'Year': 1980, 'CC': 2000}\n"
     ]
    }
   ],
   "source": [
    "#Removing values in a dict at end.\n",
    "\n",
    "myexam = {\"Brand\" : \"Toyota\", \"Year\" : 1980, \"CC\" : 2000, \"Model\" : \"Fortuner\"}\n",
    "myexam.popitem()\n",
    "print(myexam)\n"
   ]
  },
  {
   "cell_type": "code",
   "execution_count": 121,
   "id": "3058f75e-7e98-457a-b2b6-16e0d3c43b17",
   "metadata": {},
   "outputs": [
    {
     "data": {
      "text/plain": [
       "{}"
      ]
     },
     "execution_count": 121,
     "metadata": {},
     "output_type": "execute_result"
    }
   ],
   "source": [
    "#Deleting all values in a variable.\n",
    "\n",
    "myexam.clear()\n",
    "myexam\n"
   ]
  },
  {
   "cell_type": "code",
   "execution_count": null,
   "id": "17c27225-743e-4ef2-8683-1afb32edd9b1",
   "metadata": {},
   "outputs": [],
   "source": []
  }
 ],
 "metadata": {
  "kernelspec": {
   "display_name": "Python [conda env:base] *",
   "language": "python",
   "name": "conda-base-py"
  },
  "language_info": {
   "codemirror_mode": {
    "name": "ipython",
    "version": 3
   },
   "file_extension": ".py",
   "mimetype": "text/x-python",
   "name": "python",
   "nbconvert_exporter": "python",
   "pygments_lexer": "ipython3",
   "version": "3.12.7"
  }
 },
 "nbformat": 4,
 "nbformat_minor": 5
}
