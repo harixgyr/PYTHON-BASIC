{
 "cells": [
  {
   "cell_type": "markdown",
   "id": "17b980c5-3f5a-48b8-bd02-340e05d3742c",
   "metadata": {},
   "source": [
    "# TUPLE"
   ]
  },
  {
   "cell_type": "code",
   "execution_count": null,
   "id": "6bb545a7-e5bc-4967-978d-b3e7c953bd76",
   "metadata": {},
   "outputs": [],
   "source": [
    "# Collection of list in a variable\n",
    "\n",
    "# It is Unmutable and fasten process."
   ]
  },
  {
   "cell_type": "code",
   "execution_count": 2,
   "id": "a59dde5f-1206-459b-b781-15b8e2b2c74a",
   "metadata": {},
   "outputs": [
    {
     "name": "stdout",
     "output_type": "stream",
     "text": [
      "Cherry\n"
     ]
    }
   ],
   "source": [
    "#By using Tuple Index value.\n",
    "\n",
    "item = (\"Apple\", \"Bat\", \"Cherry\", \"Dore\", \"Edfe\")\n",
    "print(item[2])\n"
   ]
  },
  {
   "cell_type": "code",
   "execution_count": 8,
   "id": "00054f2f-f6a9-4695-8860-d5f6b441661f",
   "metadata": {},
   "outputs": [
    {
     "name": "stdout",
     "output_type": "stream",
     "text": [
      "Apple\n",
      "Bat\n",
      "Cherry\n",
      "Dore\n",
      "Edfe\n"
     ]
    }
   ],
   "source": [
    "#tuple using by for loop \n",
    "\n",
    "for market in range(len(item)):\n",
    "    print(item[market])\n",
    "    "
   ]
  },
  {
   "cell_type": "code",
   "execution_count": 103,
   "id": "b6e35daf-5781-4ebe-9188-60b952ffdc90",
   "metadata": {},
   "outputs": [
    {
     "data": {
      "text/plain": [
       "[0, 1, 2, 22, 23, 23, 23, 34, 45, 56, 76, 111]"
      ]
     },
     "execution_count": 103,
     "metadata": {},
     "output_type": "execute_result"
    }
   ],
   "source": [
    "#Sorting by Tuple.\n",
    "\n",
    "a = [34, 23, 23, 45, 56, 76, 23, 111, 22, 2, 1, 0]\n",
    "a.sort()\n",
    "a"
   ]
  },
  {
   "cell_type": "code",
   "execution_count": 28,
   "id": "31bcb61c-8c33-4427-b38d-f7fc23aa7e4a",
   "metadata": {},
   "outputs": [
    {
     "data": {
      "text/plain": [
       "[111, 76, 56, 45, 34, 23, 23, 22, 2, 1, 0]"
      ]
     },
     "execution_count": 28,
     "metadata": {},
     "output_type": "execute_result"
    }
   ],
   "source": [
    "# Reverse in Tuple.\n",
    "\n",
    "a.reverse()\n",
    "a\n"
   ]
  },
  {
   "cell_type": "code",
   "execution_count": 36,
   "id": "d0b2b02d-9e57-4af7-837d-dbf2f3430fe1",
   "metadata": {},
   "outputs": [
    {
     "data": {
      "text/plain": [
       "['bat', 'apple', 'Zebra', 'Xylo', 'Very']"
      ]
     },
     "execution_count": 36,
     "metadata": {},
     "output_type": "execute_result"
    }
   ],
   "source": [
    "# Reversing a string values in  high to low.\n",
    "\n",
    "b = [\"Very\", \"Zebra\", \"Xylo\", \"apple\", \"bat\"]\n",
    "b.sort(reverse = True)\n",
    "b\n"
   ]
  },
  {
   "cell_type": "code",
   "execution_count": 79,
   "id": "d37d8eea-217f-4d63-8f9f-03577206faf0",
   "metadata": {},
   "outputs": [
    {
     "data": {
      "text/plain": [
       "['Very', 'Zebra', 'cycle', 'Xylo', 'apple', 'bat']"
      ]
     },
     "execution_count": 79,
     "metadata": {},
     "output_type": "execute_result"
    }
   ],
   "source": [
    "#Copying a values from a tuple.\n",
    "\n",
    "v =[\"Very\", \"Zebra\", \"Xylo\", \"apple\", \"bat\"]\n",
    "v.insert(2, \"cycle\")\n",
    "f = v\n",
    "f\n"
   ]
  },
  {
   "cell_type": "code",
   "execution_count": 77,
   "id": "90347642-d718-4314-9adb-3671e402a16b",
   "metadata": {},
   "outputs": [
    {
     "name": "stdout",
     "output_type": "stream",
     "text": [
      "['Very', 'Zebra', 'Xylo', 'apple', 'bat']\n",
      "['Very', 'Zebra', 'Xylo', 'apple', 'bat']\n",
      "['Very', 'Zebra', 'Xylo', 'bat']\n",
      "['Very', 'Zebra', 'Xylo', 'apple', 'bat']\n"
     ]
    }
   ],
   "source": [
    "#Copying duplicate values from original tuple.\n",
    "\n",
    "v =[\"Very\", \"Zebra\", \"Xylo\", \"apple\", \"bat\"]\n",
    "print(v)\n",
    "\n",
    "f = v.copy()\n",
    "print(f)\n",
    "\n",
    "v.pop(3)\n",
    "print(v)\n",
    "\n",
    "print(f)\n"
   ]
  },
  {
   "cell_type": "code",
   "execution_count": 97,
   "id": "d43affa7-1579-497c-9cf0-8c48b69461a9",
   "metadata": {},
   "outputs": [
    {
     "name": "stdout",
     "output_type": "stream",
     "text": [
      "('Deer', 'Lion', 'Pork', 'Very', 'Xylo', 'Zebra', 'apple', 'apple', 'bat', 'tiger')\n"
     ]
    }
   ],
   "source": [
    "# adding two tuples in a single sorted tuple variable.\n",
    "\n",
    "group1 = (\"Very\", \"Zebra\", \"Xylo\", \"apple\", \"apple\", \"bat\")\n",
    "group2 = (\"Deer\", \"Lion\", \"tiger\", \"Pork\")\n",
    "\n",
    "print(tuple(sorted(group1+group2)))\n"
   ]
  },
  {
   "cell_type": "code",
   "execution_count": 3,
   "id": "535f93b7-cbb2-44df-ae1c-df68ab77bf06",
   "metadata": {},
   "outputs": [
    {
     "name": "stdout",
     "output_type": "stream",
     "text": [
      "['Deer', 'Lion', 'tiger', 'Pork']\n"
     ]
    }
   ],
   "source": [
    "# Tuple Using By for loop.\n",
    "\n",
    "group2 = [\"Deer\", \"Lion\", \"tiger\", \"Pork\"]\n",
    "group3 = []\n",
    "for i in group2:\n",
    "    group3.append(i)\n",
    "print(group3)\n"
   ]
  },
  {
   "cell_type": "code",
   "execution_count": null,
   "id": "de45f681-f41f-4030-9333-2f59dc323ad2",
   "metadata": {},
   "outputs": [],
   "source": []
  },
  {
   "cell_type": "markdown",
   "id": "f84ed962-4bb1-4a6b-8cbb-31ae5a4c78df",
   "metadata": {},
   "source": [
    "<font size = \"4\">Changes IN Tuple</font>"
   ]
  },
  {
   "cell_type": "code",
   "execution_count": 18,
   "id": "94e72ded-bd14-453a-b4dc-af5d7b0eab96",
   "metadata": {},
   "outputs": [
    {
     "name": "stdout",
     "output_type": "stream",
     "text": [
      "[12, 24, 36, 48, 60, 72, 84, 'FORD']\n"
     ]
    },
    {
     "data": {
      "text/plain": [
       "(12, 24, 36, 48, 60, 72, 84)"
      ]
     },
     "execution_count": 18,
     "metadata": {},
     "output_type": "execute_result"
    }
   ],
   "source": [
    "# coverting tuple into list and Adding value in a list , then back to orginal . \n",
    "\n",
    "car = (12, 24, 36, 48, 60, 72, 84)\n",
    "van = list(car)\n",
    "van.append(\"FORD\")\n",
    "Cars = tuple(van)\n",
    "print(van)\n",
    "car \n"
   ]
  },
  {
   "cell_type": "code",
   "execution_count": 28,
   "id": "d0a17a58-c6fd-41bd-8b84-cda9436d238a",
   "metadata": {},
   "outputs": [
    {
     "data": {
      "text/plain": [
       "[12, 24, 36, 23, 60, 72, 84, 'FORD']"
      ]
     },
     "execution_count": 28,
     "metadata": {},
     "output_type": "execute_result"
    }
   ],
   "source": [
    "# Indexing values Based changes. \n",
    "\n",
    "van[3]= 23\n",
    "van\n"
   ]
  },
  {
   "cell_type": "code",
   "execution_count": null,
   "id": "ccb8dbe4-4bb0-4ecd-903b-05f82633886b",
   "metadata": {},
   "outputs": [],
   "source": []
  }
 ],
 "metadata": {
  "kernelspec": {
   "display_name": "Python [conda env:base] *",
   "language": "python",
   "name": "conda-base-py"
  },
  "language_info": {
   "codemirror_mode": {
    "name": "ipython",
    "version": 3
   },
   "file_extension": ".py",
   "mimetype": "text/x-python",
   "name": "python",
   "nbconvert_exporter": "python",
   "pygments_lexer": "ipython3",
   "version": "3.12.7"
  }
 },
 "nbformat": 4,
 "nbformat_minor": 5
}
