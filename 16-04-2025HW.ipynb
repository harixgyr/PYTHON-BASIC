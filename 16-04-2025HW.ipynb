{
 "cells": [
  {
   "cell_type": "markdown",
   "id": "b9de7c71-772d-4617-8b63-361aa2b3caf9",
   "metadata": {},
   "source": [
    "# LIST, TUPLE, SET & DICTIONARY"
   ]
  },
  {
   "cell_type": "code",
   "execution_count": 9,
   "id": "a4546c33-0aec-45df-9af1-119c1270755f",
   "metadata": {},
   "outputs": [
    {
     "name": "stdout",
     "output_type": "stream",
     "text": [
      "['Fresh', 2, 'Apple', 0, True]\n",
      "('Fresh', 2, 'Apple', 0, True)\n",
      "{'Scores': 'FOOTBALL', 'PSG': 32, 'BRAZIL': 12, 'UAE': 20}\n"
     ]
    }
   ],
   "source": [
    "#values are formatted in 'LIST', 'TUPLE', 'SET' & 'DICTIONARY'.\n",
    "\n",
    "#LIST\n",
    "a = [\"Fresh\", 2, \"Apple\", 0, True]\n",
    "print(a)\n",
    "\n",
    "#TUPLE\n",
    "b = (\"Fresh\", 2, \"Apple\", 0, True)\n",
    "print(b)\n",
    "\n",
    "#SET\n",
    "c = {\"Fresh\", 2, \"Apple\", 0, True}\n",
    "\n",
    "#DICTIONARY\n",
    "d = {\"Scores\" : \"FOOTBALL\", \"PSG\" : 32, \"BRAZIL\" : 12, \"UAE\" : 20}\n",
    "print(d)\n"
   ]
  },
  {
   "cell_type": "markdown",
   "id": "0f0323e6-a771-4556-99bb-59199e3b92d3",
   "metadata": {},
   "source": []
  },
  {
   "cell_type": "markdown",
   "id": "1ab51bc1-82d4-400b-9fcb-0177cb50b797",
   "metadata": {},
   "source": [
    "<font size = '5.3'>INSERTING VALUES</font>"
   ]
  },
  {
   "cell_type": "code",
   "execution_count": 31,
   "id": "9f210c9b-2c6e-4805-af47-0c8926c36fc7",
   "metadata": {},
   "outputs": [
    {
     "name": "stdout",
     "output_type": "stream",
     "text": [
      "['Dave', 43, 'Free', 'BK', 'Brave', 2]\n",
      "['Dave', 43, 'Free', 'BK', 2, 'CSK']\n",
      "{'BLUEBERRY', 'CARROT', 'APPLE', 'WATERMELON'}\n",
      "{'Scores': 'FOOTBALL', 'PSG': 32, 'BRAZIL': 12, 'UAE': 20, 'MANCHESTER': 55}\n",
      "{'Scores': 'FOOTBALL', 'PSG': 32, 'BRAZIL': 12, 'UAE': 20, 'MANCHESTER': 55, 'FC-BARCELONA': 100}\n"
     ]
    }
   ],
   "source": [
    "#values are inserted in 'LIST', 'TUPLE', 'SET' & 'DICTIONARY'.\n",
    "\n",
    "#LIST   → (INSERT)\n",
    "e = [\"Dave\", 43, \"Free\", \"BK\", 2]\n",
    "e.insert(4, \"Brave\")\n",
    "print(e)\n",
    "\n",
    "#TUPLE  → (change into list and can able to add values and back to old).\n",
    "f = (\"Dave\", 43, \"Free\", \"BK\", 2)\n",
    "f1 = list(f)\n",
    "f1.append(\"CSK\")\n",
    "print(f1)\n",
    "\n",
    "#SET → (ADD)\n",
    "g = {\"APPLE\", \"BLUEBERRY\", \"CARROT\"}\n",
    "g.add(\"WATERMELON\")\n",
    "print(g)\n",
    "\n",
    "#DICTIONARY → (UPDATE & Can directly add the values)\n",
    "h = {\"Scores\" : \"FOOTBALL\", \"PSG\" : 32, \"BRAZIL\" : 12, \"UAE\" : 20}\n",
    "h[\"MANCHESTER\"] = 55\n",
    "print(h)\n",
    "\n",
    "h.update({\"FC-BARCELONA\" : 100 })\n",
    "print(h)\n"
   ]
  },
  {
   "cell_type": "markdown",
   "id": "ddca08cc-bd55-4aa3-916a-9c5804822e89",
   "metadata": {},
   "source": []
  },
  {
   "cell_type": "markdown",
   "id": "c480dce6-d3ce-4130-8483-3806f4086ff0",
   "metadata": {},
   "source": [
    "<font size = '5.3'>REMOVING VALUES</font>"
   ]
  },
  {
   "cell_type": "code",
   "execution_count": 45,
   "id": "4e201360-4cba-4b9f-87b9-b5f591cc0056",
   "metadata": {},
   "outputs": [
    {
     "name": "stdout",
     "output_type": "stream",
     "text": [
      "['banana', 'cherry']\n",
      "['apple', 'banana']\n",
      "{1, 2, 4, 5, 9}\n",
      "{'Scores': 'FOOTBALL', 'PSG': 32, 'BRAZIL': 12}\n"
     ]
    }
   ],
   "source": [
    "#Values are removed in 'LIST', 'TUPLE', 'SET' & 'DICTIONARY'.\n",
    "\n",
    "#LIST → (REMOVE) → [POP(by selected index)]\n",
    "a = [\"apple\", \"banana\", \"cherry\"]\n",
    "a.remove(\"apple\")\n",
    "print(a)\n",
    "\n",
    "b = [\"apple\", \"banana\", \"cherry\"]\n",
    "b.pop(2)\n",
    "print(b)\n",
    "\n",
    "#TUPLE → (removing values by changing into list and back to original).\n",
    "s1 = (\"Fresh\", 2, \"Apple\", 0, True)\n",
    "s = list(s1)\n",
    "s.remove(2)\n",
    "s\n",
    "\n",
    "#SET → (DISCARD)\n",
    "d = {1, 2, 4, 5, 9, \"HAIYRE\"}\n",
    "d.discard(\"HAIYRE\")\n",
    "print(d)\n",
    "\n",
    "#DICTIONARY → (POP by just keys)\n",
    "g = {\"Scores\" : \"FOOTBALL\", \"PSG\" : 32, \"BRAZIL\" : 12, \"UAE\" : 20}\n",
    "g.pop(\"UAE\")\n",
    "print(g)\n"
   ]
  },
  {
   "cell_type": "code",
   "execution_count": null,
   "id": "f51671d3-3647-47ca-80b8-2f123ad0810b",
   "metadata": {},
   "outputs": [],
   "source": []
  }
 ],
 "metadata": {
  "kernelspec": {
   "display_name": "Python [conda env:base] *",
   "language": "python",
   "name": "conda-base-py"
  },
  "language_info": {
   "codemirror_mode": {
    "name": "ipython",
    "version": 3
   },
   "file_extension": ".py",
   "mimetype": "text/x-python",
   "name": "python",
   "nbconvert_exporter": "python",
   "pygments_lexer": "ipython3",
   "version": "3.12.7"
  }
 },
 "nbformat": 4,
 "nbformat_minor": 5
}
